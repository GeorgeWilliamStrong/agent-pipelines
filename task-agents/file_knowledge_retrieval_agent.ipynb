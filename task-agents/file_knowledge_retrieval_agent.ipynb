{
 "cells": [
  {
   "cell_type": "markdown",
   "metadata": {},
   "source": [
    "# File Knowledge Retrieval Agent"
   ]
  },
  {
   "cell_type": "markdown",
   "metadata": {},
   "source": [
    "## 0. Import Libraries\n",
    "\n",
    "Import and initialize the necessary libraries."
   ]
  },
  {
   "cell_type": "code",
   "execution_count": 1,
   "metadata": {},
   "outputs": [],
   "source": [
    "from openai.types.chat import ChatCompletion\n",
    "from openai.types.chat.chat_completion import Choice\n",
    "from openai.types.chat.chat_completion_message import ChatCompletionMessage\n",
    "from openai.types.chat.chat_completion_message_tool_call import ChatCompletionMessageToolCall\n",
    "from openai.types.chat.chat_completion_message_tool_call import Function\n",
    "import time\n",
    "from openai import OpenAI\n",
    "import json\n",
    "from instill.clients import init_pipeline_client\n",
    "import os\n",
    "\n",
    "pipeline = init_pipeline_client(api_token=os.environ[\"INSTILL_API_TOKEN\"])\n",
    "client = OpenAI()"
   ]
  },
  {
   "cell_type": "markdown",
   "metadata": {},
   "source": [
    "## 1. Initialize Variables\n",
    "\n",
    "Here we set the outputs from the executing agent, as well as the parameters defined by Agent-BE, user interaction and other add-on pipelines."
   ]
  },
  {
   "cell_type": "code",
   "execution_count": 2,
   "metadata": {},
   "outputs": [],
   "source": [
    "# Catalog and namespace for retrieval\n",
    "catalog_name = \"benchmark-s1-wework\"\n",
    "namespace = \"george_strong\"\n",
    "\n",
    "# File summary from indexing-generate-summary pipeline\n",
    "file_summary = \"\"\"\n",
    "This document contains the S-1 Registration Statement for WeWork Companies Inc., filed with the Securities and Exchange Commission on August 14, 2019. It provides a comprehensive overview of the company's business model, which focuses on offering flexible workspace solutions through a \"space-as-a-service\" membership model, catering to a diverse clientele that includes freelancers, startups, and large enterprises. The document highlights WeWork's rapid growth, showcasing a committed revenue backlog of $4.0 billion as of June 30, 2019, alongside significant increases in memberships and revenue.\n",
    "\n",
    "Key sections include an analysis of risk factors, financial performance, and strategic growth plans, emphasizing market expansion and product enhancement. It details the company's capital structure, including various stock classes and their voting rights, as well as significant relationships with major investors like SoftBank. The financial statements reflect substantial increases in revenue and operating expenses, alongside notable net losses, while also addressing lease-related liabilities and assets in accordance with accounting standards.\n",
    "\n",
    "Additionally, the document discusses WeWork's acquisitions, stock-based compensation, and related party transactions, providing insights into the company's operational strategies and financial health. Overall, this registration statement serves as a detailed prospectus for potential investors, outlining both the opportunities and risks associated with investing in WeWork.\n",
    "\"\"\"\n",
    "\n",
    "# Instruction from executing agent\n",
    "instruction = \"identify the main risks for WeWork\"\n",
    "\n",
    "# State context from executing agent\n",
    "state_context = \" \"\n",
    "\n",
    "# Recommend actions from executing agent\n",
    "recommend_actions = \" \"\n",
    "\n",
    "# User's follow-up query\n",
    "user_query = \"what are the main risks for WeWork?\"\n",
    "\n",
    "# User's chat history\n",
    "chat_history = \" \"\n",
    "\n",
    "# Input from user toggle for deep document analysis\n",
    "deep_analysis = False\n",
    "\n",
    "# Default relevance threshold for RAG mode\n",
    "relevance_threshold = 0.1"
   ]
  },
  {
   "cell_type": "code",
   "execution_count": 3,
   "metadata": {},
   "outputs": [],
   "source": [
    "# Preprocess file summary to remove double quotes - can cause issues with JSON parsing\n",
    "file_summary = file_summary.replace('\"', \"'\")\n",
    "chat_history = chat_history.replace('\"', \"'\")\n",
    "user_query = user_query.replace('\"', \"'\")\n",
    "instruction = instruction.replace('\"', \"'\")"
   ]
  },
  {
   "cell_type": "markdown",
   "metadata": {},
   "source": [
    "## 2. Define Prompt and System Message\n",
    "\n",
    "Here we define the prompt and system message templates for the agent."
   ]
  },
  {
   "cell_type": "code",
   "execution_count": 4,
   "metadata": {},
   "outputs": [],
   "source": [
    "SYSTEM_MESSAGE = \"\"\"\n",
    "Collect and aggregate relevant information based on the supervisor's context and queries.\n",
    "In your sentences or paragraphs, provide properly formatted bracket citations (e.g., [1][2]) for each referenced source where applicable.\n",
    "\n",
    "You are a professional information retrieval, extraction and synthesis expert.\n",
    "Your job is to read the current state/context from your supervisor and do your best to complete the assigned tasks so that the user can gather the necessary information.\n",
    "When returning your responses, you must include correct bracket citations in the form [1][5], etc., ensuring that each bracketed number corresponds exactly to the appropriate chunk source.\n",
    "Carefully maintain citation order and do not mix them up.\n",
    "\n",
    "User Past Conversation History:\n",
    "{chat_history}\n",
    "\n",
    "User Follow-up Query:\n",
    "{user_query}\n",
    "\"\"\"\n",
    "\n",
    "PROMPT = \"\"\"\n",
    "Below is the background/context from your supervisor:\n",
    "${state_context}\n",
    "\n",
    "The supervisor's task description for you is as follows:\n",
    "${instruction}\n",
    "\n",
    "Recommended actions or parameters you may use:\n",
    "${recommend_actions}\n",
    "\n",
    "Please read the information above carefully. Decide how you will call either the retrieving-rag or retrieving-extract tools to gather relevant data.\n",
    "Incorporate your newly collected information into a comprehensive response for your supervisor.\n",
    "Remember to embed bracket citations (e.g., [3][5]) within the text to show exactly which file/chunk sources support each piece of information you provide.\n",
    "\n",
    "# Steps\n",
    "\n",
    "1. Review the given context, the user's previous conversation history, and the user's follow-up query.\n",
    "2. Determine if additional data from files is required to fulfill the request comprehensively.\n",
    "3. If necessary, formulate a suitable file retrieval query (or queries) to extract more information from available file sources, referencing that data in your response with bracketed citations.\n",
    "4. After receiving the tool response, decide whether more iterative retrievals are needed for completeness.\n",
    "5. Compile a coherent, thorough answer with citations pointing to the specific file sources/chunks of information.\n",
    "\n",
    "# Output Format\n",
    "\n",
    "• Provide your final answer in clear, well-structured English.\n",
    "• Enclose each reference to an external file source in bracket citations corresponding to the retrieved file segments (e.g., [1]).\n",
    "• Make sure the numbering of citations aligns with the order of retrieved sources; do not mix them up or leave them out.\n",
    "\n",
    "# Examples\n",
    "\n",
    "(If needed, you may include placeholders [FILE #1], [FILE #4] for demonstration. For instance, “Based on the information from [1], [4] …”)\n",
    "\n",
    "# Notes\n",
    "\n",
    "• Always confirm each piece of information against the cited file source.\n",
    "• If you find incomplete or conflicting data, continue extracting iteratively until you have sufficient clarity.\n",
    "• Keep the final message comprehensive and aligned with the supervisor's requirements.\n",
    "\"\"\""
   ]
  },
  {
   "cell_type": "markdown",
   "metadata": {},
   "source": [
    "## 3. Handle Deep File Analysis\n",
    "\n",
    "Here we handle the deep file analysis toggle. If the user has selected deep file analysis, we will obtain the number of chunks in the document. If the number of chunks is less than or equal to 15, we will set `deep_analysis` to `False` and set `relevance_threshold` to `0`. The logic is that if the number of chunks is less than or equal to 15, we will retrieve the whole document. By setting the `relevance_threshold` to `0`, we ensure that all chunks are consumed by the agents response (none are filtered out)."
   ]
  },
  {
   "cell_type": "code",
   "execution_count": 5,
   "metadata": {},
   "outputs": [
    {
     "name": "stdout",
     "output_type": "stream",
     "text": [
      "False\n"
     ]
    }
   ],
   "source": [
    "# Default to RAG mode if num_chunks is less than or equal to 15 as the whole document is retrieved\n",
    "if deep_analysis:\n",
    "    num_chunks = pipeline.trigger(\n",
    "        namespace_id=namespace,\n",
    "        pipeline_id=\"get-num-chunks\",\n",
    "        data=[{\n",
    "            \"catalog-name\": catalog_name,\n",
    "            \"namespace\": namespace\n",
    "        }]\n",
    "    )['outputs'][0]['num-chunks']\n",
    "\n",
    "    if num_chunks <= 15:\n",
    "        deep_analysis = False\n",
    "        relevance_threshold = 0 # We don't want to filter chunks if we're doing deep analysis so we set it to 0\n",
    "print(deep_analysis)"
   ]
  },
  {
   "cell_type": "markdown",
   "metadata": {},
   "source": [
    "## 4. Define Tools\n",
    "\n",
    "Here we define the tools that the agent will use. We have two tools, `retrieving-rag` and `retrieving-extract`. The `retrieving-extract` tool is used when the user has selected deep file analysis. The `retrieving-rag` tool is used when the user has not selected deep file analysis (or the number of chunks is less than or equal to 15).\n",
    "\n",
    "#### **Important**\n",
    "To save an unnecessary LLM request (since the user makes the decision to use which tool with the toggle), we manually create the `ChatCompletionMessageToolCall` and `ChatCompletion` objects."
   ]
  },
  {
   "cell_type": "code",
   "execution_count": 9,
   "metadata": {},
   "outputs": [
    {
     "name": "stdout",
     "output_type": "stream",
     "text": [
      "ChatCompletion(id='chatcmpl_1739313763', choices=[Choice(finish_reason='tool_calls', index=0, logprobs=None, message=ChatCompletionMessage(content=None, refusal=None, role='assistant', audio=None, function_call=None, tool_calls=[ChatCompletionMessageToolCall(id='call_1739313763', function=Function(arguments='{\"catalog-name\": \"benchmark-s1-wework\", \"namespace\": \"george_strong\", \"instruction\": \"identify the main risks for WeWork\", \"chat-history\": \" \", \"user-query\": \"what are the main risks for WeWork?\", \"relevance-threshold\": 0.1}', name='retrieving-rag'), type='function')]))], created=1739313763, model='gpt-4o', object='chat.completion', service_tier=None, system_fingerprint=None, usage=None)\n"
     ]
    }
   ],
   "source": [
    "tools = [\n",
    "{\n",
    "    \"type\": \"function\",\n",
    "    \"function\": {\n",
    "        \"name\": \"retrieving-rag\",\n",
    "        \"description\": \"Retrieves chunks from the document that are relevant to the instruction, user query, and chat history.\",\n",
    "        \"parameters\": {\n",
    "            \"type\": \"object\",\n",
    "            \"properties\": {\n",
    "                \"catalog-name\": {\"type\": \"string\"},\n",
    "                \"namespace\": {\"type\": \"string\"},\n",
    "                \"instruction\": {\"type\": \"string\"},\n",
    "                \"chat-history\": {\"type\": \"string\"},\n",
    "                \"user-query\": {\"type\": \"string\"},\n",
    "                \"relevance-threshold\": {\"type\": \"number\"}\n",
    "            },\n",
    "            \"required\": [\"catalog-name\", \"namespace\", \"instruction\", \"chat-history\", \"user-query\", \"relevance-threshold\"],\n",
    "            \"additionalProperties\": False\n",
    "        },\n",
    "        \"strict\": True\n",
    "    }\n",
    "},\n",
    "{\n",
    "    \"type\": \"function\",\n",
    "    \"function\": {\n",
    "        \"name\": \"retrieving-extract\",\n",
    "        \"description\": \"Extracts relevant information from the document that is relevant to the instruction, user query, chat history and file summary.\",\n",
    "        \"parameters\": {\n",
    "            \"type\": \"object\",\n",
    "            \"properties\": {\n",
    "                \"catalog-name\": {\"type\": \"string\"},\n",
    "                \"namespace\": {\"type\": \"string\"},\n",
    "                \"instruction\": {\"type\": \"string\"},\n",
    "                \"chat-history\": {\"type\": \"string\"},\n",
    "                \"user-query\": {\"type\": \"string\"},\n",
    "                \"file-summary\": {\"type\": \"string\"}\n",
    "            },\n",
    "            \"required\": [\"catalog-name\", \"namespace\", \"instruction\", \"chat-history\", \"user-query\", \"file-summary\"],\n",
    "            \"additionalProperties\": False\n",
    "        },\n",
    "        \"strict\": True\n",
    "    }\n",
    "}]\n",
    "\n",
    "# Manually create the tool call with a simple generated ID\n",
    "if deep_analysis:\n",
    "    print(\"Deep analysis\")\n",
    "    tool_call = ChatCompletionMessageToolCall(\n",
    "        id=f\"call_{int(time.time())}\",  # Generate a simple unique ID\n",
    "        type='function',\n",
    "        function=Function(\n",
    "            name='retrieving-extract',\n",
    "            arguments=f'{{\"catalog-name\": \"{catalog_name}\", \"namespace\": \"{namespace}\", \"instruction\": \"{instruction}\", \"chat-history\": \"{chat_history}\", \"user-query\": \"{user_query}\", \"file-summary\": \"{file_summary}\"}}'\n",
    "        )\n",
    "    )\n",
    "elif not deep_analysis:\n",
    "    tool_call = ChatCompletionMessageToolCall(\n",
    "        id=f\"call_{int(time.time())}\",  # Generate a simple unique ID\n",
    "        type='function',\n",
    "        function=Function(\n",
    "            name='retrieving-rag',\n",
    "            arguments=f'{{\"catalog-name\": \"{catalog_name}\", \"namespace\": \"{namespace}\", \"instruction\": \"{instruction}\", \"chat-history\": \"{chat_history}\", \"user-query\": \"{user_query}\", \"relevance-threshold\": {relevance_threshold}}}'\n",
    "        )\n",
    "    )\n",
    "\n",
    "# Set up the messages with the system message and prompt\n",
    "messages = [\n",
    "    {\n",
    "        \"role\": \"system\",\n",
    "        \"content\": SYSTEM_MESSAGE.format(\n",
    "            chat_history=chat_history,\n",
    "            user_query=user_query\n",
    "        )\n",
    "    },\n",
    "    {\n",
    "        \"role\": \"user\",\n",
    "        \"content\": PROMPT.format(\n",
    "            state_context=state_context,\n",
    "            instruction=instruction,\n",
    "            recommend_actions=recommend_actions\n",
    "        )\n",
    "    }\n",
    "]\n",
    "\n",
    "# Manually create the message\n",
    "message = ChatCompletionMessage(\n",
    "    role='assistant',\n",
    "    content=None,\n",
    "    tool_calls=[tool_call]\n",
    ")\n",
    "\n",
    "# Manually create the choice\n",
    "choice = Choice(\n",
    "    finish_reason='tool_calls',\n",
    "    index=0,\n",
    "    logprobs=None,\n",
    "    message=message\n",
    ")\n",
    "\n",
    "# Manually create minimal ChatCompletion\n",
    "completion = ChatCompletion(\n",
    "    id=f\"chatcmpl_{int(time.time())}\",  # Generate a simple unique ID\n",
    "    choices=[choice],\n",
    "    created=int(time.time()),  # Current timestamp\n",
    "    model=\"gpt-4o\",\n",
    "    object=\"chat.completion\"\n",
    ")\n",
    "print(completion)"
   ]
  },
  {
   "cell_type": "markdown",
   "metadata": {},
   "source": [
    "## 5. Execute the Tool Call\n",
    "\n",
    "We first extract the arguments from the tool call and then execute the tool call.\n"
   ]
  },
  {
   "cell_type": "code",
   "execution_count": 10,
   "metadata": {},
   "outputs": [
    {
     "data": {
      "text/plain": [
       "{'catalog-name': 'benchmark-s1-wework',\n",
       " 'namespace': 'george_strong',\n",
       " 'instruction': 'identify the main risks for WeWork',\n",
       " 'chat-history': ' ',\n",
       " 'user-query': 'what are the main risks for WeWork?',\n",
       " 'relevance-threshold': 0.1}"
      ]
     },
     "execution_count": 10,
     "metadata": {},
     "output_type": "execute_result"
    }
   ],
   "source": [
    "tool_call = completion.choices[0].message.tool_calls[0]\n",
    "clean_string = tool_call.function.arguments.replace(\"\\n\", \"\\\\n\").replace(\"\\r\", \"\\\\r\")\n",
    "args = json.loads(clean_string)\n",
    "args"
   ]
  },
  {
   "cell_type": "code",
   "execution_count": 11,
   "metadata": {},
   "outputs": [
    {
     "data": {
      "text/plain": [
       "{'citations': ['Source: S-1 Wework.md. Chunk UID: 1770466f-f586-4979-afdb-b065a04f793c.',\n",
       "  'Source: S-1 Wework.md. Chunk UID: 682e4d61-4e8f-4a5c-86cf-5e8f0fffafe7.',\n",
       "  'Source: S-1 Wework.md. Chunk UID: 4a8e511e-6bb6-425c-85c9-cfcac16fac8d.',\n",
       "  'Source: S-1 Wework.md. Chunk UID: f28fe51d-65bc-46c8-8f02-3d1e328b7f36.',\n",
       "  'Source: S-1 Wework.md. Chunk UID: 32f595d7-f289-4d91-9f10-787632263c3e.',\n",
       "  'Source: S-1 Wework.md. Chunk UID: eca95b65-91b0-4734-b980-1d96be98a85f.',\n",
       "  'Source: S-1 Wework.md. Chunk UID: 039ca476-a292-4b97-9e46-59b0394fde57.',\n",
       "  'Source: S-1 Wework.md. Chunk UID: c58d1712-8ddf-4559-92df-90c26b9eb146.',\n",
       "  'Source: S-1 Wework.md. Chunk UID: 8358af51-0220-45f2-84bf-c983eec9329e.',\n",
       "  'Source: S-1 Wework.md. Chunk UID: adf38b59-4f30-4c8f-a415-2f5fa323018b.'],\n",
       " 'scores': [0.9941347,\n",
       "  0.9914887,\n",
       "  0.98187524,\n",
       "  0.97090924,\n",
       "  0.96814114,\n",
       "  0.93546456,\n",
       "  0.92523,\n",
       "  0.43578145,\n",
       "  0.38931432,\n",
       "  0.2810108],\n",
       " 'chunks': ['[1] # Key Performance Indicators\\n\\nN/R = Not reported  \\n(1) “Workstation capacity” represents the estimated number of workstations available at open WeWork locations. See “Management’s Discussion and Analysis of Financial Condition and Results of Operations—Key Performance Indicators—Workstation Capacity” for additional information about this metric.  \\n(2) “Memberships” represents the cumulative number of WeWork memberships and on-demand memberships. See “Management’s Discussion and Analysis of Financial Condition and Results of Operations—Key Performance Indicators—Memberships” for additional information about this metric.  \\n(3) “Enterprise membership percentage” represents the percentage of our memberships attributable to organizations with 500 or more full-time employees. See “Management’s Discussion and Analysis of Financial Condition and Results of Operations—Key Performance Indicators—Enterprise Membership Percentage” for additional information about this metric.\\n(4) “Run-rate revenue” for a given period represents our revenue recognized in accordance with GAAP for the last month of such period multiplied by 12. See “Management’s Discussion and Analysis of Financial Condition and Results of Operations—Key Performance Indicators—Run-Rate Revenue” for additional information about this metric.  \\n(5) “Committed revenue backlog” as of a given date represents total non-cancelable contractual commitments, net of discounts, remaining under agreements entered into as of such date, which we expect will be recognized as revenue subsequent to such date. See “Management’s Discussion and Analysis of Financial Condition and Results of Operations—Key Performance Indicators—Committed Revenue Backlog” for additional information about this metric. We began reporting committed revenue backlog on a quarterly basis as of March 31, 2019.\\n# Contribution Margin\\nWe use contribution margin to assess the profitability and performance of our locations both in the aggregate and on a location by location basis. See “Management’s Discussion and Analysis of Financial Condition and Results of Operations—Contribution Margin” for the definition of and additional information about our contribution margin measures.\\n# RISK FACTORS\\nInvesting in our Class A common stock involves a high degree of risk. You should consider and read carefully all of the risks and uncertainties described below, as well as the other information included in this prospectus, including the consolidated financial statements and related notes appearing elsewhere in this prospectus, before making an investment decision. The risks described below are not the only risks we face. The occurrence of any of the following risks or additional risks and uncertainties not presently known to us or that we currently believe to be immaterial could materially and adversely affect our business, financial condition, results of operations and prospects. In that case, the trading price of our Class A common stock could decline, and you may lose all or part of your investment. This prospectus also contains forward-looking statements that involve risks and uncertainties. Please refer to “Cautionary Note Regarding Forward-Looking Statements” for more information regarding\\nThis prospectus also contains forward-looking statements that involve risks and uncertainties. Please refer to “Cautionary Note Regarding Forward-Looking Statements” for more information regarding forward-looking statements.\\n## Risks Relating to Our Business\\n### Our business has grown rapidly, and we may fail to manage our growth effectively.\\nWe have experienced rapid growth in our business, including in the number of our locations and in the size of our membership base. This rapid growth places a significant strain on our existing resources. Difficulties associated with our continued growth could result in harm to our reputation and could have a material adverse effect on our business, including our prospects for continued growth, and on our financial condition, results of operations and cash flows.\\nWe expect our capital expenditures and operating expenses to increase on an absolute basis as we continue to invest in additional locations, launch additional solutions, products and services, hire additional team members, and increase our marketing efforts. In particular, we expect to continue to invest in local infrastructure to support our continued growth. As we continue to decentralize and localize certain decision-making and risk management functions, we may discover that our internal processes are ineffective or inefficient. In particular, to manage our rapid growth, we will need to enhance our reporting systems and procedures and continue to improve our operational, financial, management, sales and marketing, and information technology infrastructure. Continued growth could also strain our ability to maintain reliable service levels for our members. If we do not manage our growth effectively, increases in our capital expenditures and operating expenses could outpace any increases in our revenue, which\\nreliable service levels for our members. If we do not manage our growth effectively, increases in our capital expenditures and operating expenses could outpace any increases in our revenue, which could have a material adverse effect on our results of operations.\\nSource: S-1 Wework.md.\\nChunk UID: 1770466f-f586-4979-afdb-b065a04f793c.',\n",
       "  '[2] # RISK FACTORS\\n## Risks Relating to Our Business\\n### Our rapid growth may not be sustainable.\\n\\nOur historical growth rates may not be indicative of future growth. The market for our solutions, products and services may not continue to grow at the rate we expect or at all, and our memberships may decline as a result of increased competition in the space-as-a-service sector or the maturation of our business. Additionally, as we grow, the ability of our management to source sufficient reasonably-priced opportunities for new locations of the type we have historically targeted or to develop and launch additional solutions, products and services may become more limited.\\n### Our business strategy includes entering into new markets and introducing new solutions, products and services. This strategy is inherently risky, may not be successful and could be costly.\\nAs part of our growth strategy, we intend to continue expansion into additional locations in existing and new markets within the United States and throughout the world, while also enhancing our product and service offerings. We may also continue to pursue new strategic opportunities, including real estate acquisition and management. Such expansion efforts also generally involve significant risks and uncertainties, including distraction of management from our existing solutions, products and services and the operations of our existing locations. As we attempt to grow our foothold in an evolving industry and acquire new businesses that enhance value for our members, we may encounter issues and risks not discovered in our development or analysis of such expansion efforts. Our operations in any new markets or solutions, products and services into which we expand may also generate less revenue or cash flow than our core WeWork space-as-a-service offering in our existing locations.\\nOur expansion efforts have required, and we expect them to continue to require, substantial resources and management attention. We spend significant time, money, energy, and other resources trying to understand our members’ needs and working to accommodate them, which may include exploring and negotiating for new solutions, products, and services. However, as we expand into new markets and introduce new solutions, products, and services, our members may not be satisfied with our solutions, products, and services, including any new offerings that we launch. The time, money, energy, and other resources we dedicate to exploring and pursuing new solutions, products, and services may be greater than the short-term, and potentially the total, returns from these new offerings.\\nWe will also face new operational risks and challenges as we continue to enter into new markets. Expansion into foreign jurisdictions subjects us to legal, regulatory, economic, and political risks that may be different from and additional to those that we face in jurisdictions where we currently operate, and we may operate at a disadvantage relative to competitors who are more familiar with local market practices and networks. Expansion into new solutions, products, and services subjects us to similar risks as we compete with the many established participants in those markets, and we face additional regulatory, legal, and execution risks as we implement new business practices and integrate a new offering into our existing range of solutions, products, and services. To the extent the benefits of our expansion efforts do not meet our expectations, we may recognize a loss on our investment or gains that do not justify our investment. See “—We plan to continue expanding our business into markets outside the\\nefforts do not meet our expectations, we may recognize a loss on our investment or gains that do not justify our investment. See “—We plan to continue expanding our business into markets outside the United States, which will subject us to risks associated with operating in foreign jurisdictions.”\\nOur success in this regard may increasingly depend on the financial success and cooperation of local partners and other third parties. For more information, see “—Our growth and success depend on our ability to maintain the value and reputation of our brand and the success of our strategic partnerships.”\\nSource: S-1 Wework.md.\\nChunk UID: 682e4d61-4e8f-4a5c-86cf-5e8f0fffafe7.',\n",
       "  '[3] # Table of Contents\\n\\nAs we continue to grow our global platform in new markets, certain metrics may be impacted by the geographic mix of our platform. For example, average revenue per WeWork membership has declined as we have expanded internationally into lower-priced markets, which is a trend we expect could continue in the near term. Also, our overall contribution margin percentage may decline as certain lower margin markets, including markets with a larger target member population such as China, Latin America, and Southeast Asia become a larger portion of our portfolio. Our contribution margin metrics may also be impacted by the speed at which we can open locations and stabilize occupancy at those locations as well as the average revenue per WeWork membership that we generate.\\nWe face risks arising from strategic transactions such as acquisitions and investments that we evaluate, pursue, and undertake.\\nFrom time to time, we evaluate potential strategic acquisition or investment opportunities, and from time to time we pursue and undertake certain of those opportunities. We have expanded rapidly, including through acquisitions of companies engaged in a variety of businesses, including Meetup (an online platform that brings people together offline) and Flatiron School (a software programming education platform). We plan to continue to pursue and complete acquisitions or investments, some of which may be material and may not create the value that we expect. We also plan to continue or accelerate investments in real estate vehicles, including as we grow our ARK real estate acquisition and management platform.\\nAny transactions that we enter into could be material to our financial condition and results of operations. We have limited experience in completing and integrating major acquisitions. The process of acquiring and integrating another company or technology could create unforeseen operating difficulties and expenditures and could entail unforeseen liabilities that are not recoverable under the relevant transaction agreements or otherwise.\\nThe integration of acquisitions involves a number of significant risks which may include but are not limited to:\\n- the assimilation and retention of personnel, including management personnel, in the acquired businesses;\\n- accounting, tax, regulatory, and compliance issues that could arise;\\n- expenses and difficulties in the transition and integration of operations and systems;\\n- unanticipated expenses incurred or charges to earnings based on unknown circumstances or liabilities;\\n- failure to realize the synergies and other benefits we expect from the acquisition, at the pace we anticipate or at all;\\n- general economic conditions in the markets in which the acquired business operates; and\\n- difficulties encountered in conducting business in markets where we have limited experience and expertise.\\nIf we are unable to successfully complete and integrate our strategic acquisitions in a timely manner, our business, growth strategies, and results of operations could be adversely affected.\\nWe have entered into certain agreements that may limit our ability to directly acquire ownership interests in properties, and our control and joint ownership of certain properties with third-party investors may create conflicts of interest.\\nWe hold an ownership interest in ARK, our real estate acquisition and management platform, through our majority ownership of the general partner and manager entities that manage the activities of real estate acquisition vehicles managed or sponsored by ARK. In connection with the formation of ARK, we agreed that ARK would be the exclusive general partner and investment manager for any real estate acquisition vehicles managed by, or otherwise affiliated with, The We Company and its controlled affiliates and associated persons. We also agreed to make commercial real estate and other real estate-related investment opportunities that meet ARK’s mandate available to ARK on a first-look basis, with certain limited exceptions. Because of these requirements, which are in effect at least until there are no real estate acquisition vehicles managed or sponsored by ARK that are actively deploying capital, we may be required to acquire ownership interests in properties through ARK that we otherwise could have acquired\\nacquisition vehicles managed or sponsored by ARK that are actively deploying capital, we may be required to acquire ownership interests in properties through ARK that we otherwise could have acquired through one of our operating subsidiaries, which may prevent us from realizing the full benefit of certain attractive real estate opportunities.\\nSource: S-1 Wework.md.\\nChunk UID: 4a8e511e-6bb6-425c-85c9-cfcac16fac8d.',\n",
       "  '[4] # RISK FACTORS\\n## Risks Relating to Our Business\\n### We have a history of losses and, especially if we continue to grow at an accelerated rate, we may be unable to achieve profitability at a company level (as determined in accordance with GAAP) for the foreseeable future.\\n\\nWe had an accumulated deficit as of December 31, 2017 and 2018 and as of June 30, 2018 and 2019 and had net losses of $0.4 billion, $0.9 billion, and $1.9 billion for the years ended December 31, 2016, 2017, and 2018, respectively, and $0.7 billion and $0.9 billion for the six months ended June 30, 2018 and 2019. Our accumulated deficit and net losses have historically resulted primarily from the substantial investments required to grow our business, including the significant increase in recent periods in the number of locations we operate. We expect that these costs and investments will continue to increase as we continue to grow our business. We also intend to invest in maintaining our high level of member service and support, which we consider critical to our continued success. We also expect to incur additional general and administrative expenses as a result of our growth. These expenditures will make it more difficult for us to achieve profitability, and we cannot predict whether we will achieve\\nadditional general and administrative expenses as a result of our growth. These expenditures will make it more difficult for us to achieve profitability, and we cannot predict whether we will achieve profitability for the foreseeable future. Although we do not currently believe our net loss will increase as a percentage of revenue in the long term, we believe that our net loss may increase as a percentage of revenue in the near term and will continue to grow on an absolute basis.\\n### Our operating costs and other expenses may be greater than we anticipate, and our investments to make our business and our operations more efficient may not be successful.\\nIncreases in our costs, expenses, and investments may reduce our margins and materially adversely affect our business, financial condition, and results of operations. In addition, non-mature locations and pipeline locations may not generate revenue or cash flow comparable to those generated by our existing mature locations, and our mature locations may not be able to continue to generate existing levels of revenue or cash flow. Further, our We Company offerings, such as WeLive, WeGrow, Flatiron School, and Meetup, and additional We Company offerings that we may launch or acquire in the future, may not generate meaningful revenue or cash flow. For any of these reasons, we may be unable to achieve profitability for the foreseeable future and may face challenges in growing our cash flows.\\n### We may not be able to continue to retain existing members, most of whom enter into membership agreements with short-term commitments, or to attract new members in sufficient numbers or at sufficient rates to sustain and increase our memberships or at all.\\nWe principally generate revenues through the sale of memberships. We have in the past experienced, and expect to continue to experience, membership agreement terminations. In many cases, our members may terminate their membership agreements with us at any time upon as little notice as one calendar month. Members may cancel their memberships for many reasons, including a perception that they do not make sufficient use of our solutions and services, that they need to reduce their expenses, or that alternative work environments may provide better value or a better experience.\\n### Our results of operations could be adversely affected by declines in demand for our memberships.\\nDemand for our memberships may be negatively affected by a number of factors, including geopolitical uncertainty, competition, cybersecurity incidents, decline in our reputation, and saturation in the markets where we operate. Prevailing general and local economic conditions may also negatively affect the demand for our memberships, particularly from current and potential members that are small- and mid-sized businesses and may be disproportionately affected by adverse economic conditions.\\nSource: S-1 Wework.md.\\nChunk UID: f28fe51d-65bc-46c8-8f02-3d1e328b7f36.',\n",
       "  '[5] # Table of Contents\\n## Regulatory Compliance Risks\\n\\nWe must ensure that our development activities comply with varying standards by jurisdiction. Any existing or new government regulations or ordinances that relate to our development activities may result in significant additional expenses to us and, as a result, might adversely affect our results of operations.\\nChanges in tax laws and unanticipated tax liabilities could adversely affect the taxes we pay and therefore our financial condition and results of operations.\\nAs a global company, we are subject to taxation in numerous countries, states, and other jurisdictions. Tax laws, regulations, and administrative practices in various jurisdictions may be subject to significant change, with or without notice, due to economic, political, and other conditions, and significant judgment is required in applying the relevant provisions of tax law.\\nIf such changes were to be adopted or if the tax authorities in the jurisdictions where we operate were to challenge our application of relevant provisions of applicable tax laws, our financial condition and results of operations could be adversely affected.\\nFailure by certain of our subsidiaries in complying with laws and regulations applicable to investment platforms, including the Investment Advisers Act of 1940, as amended (the “Advisers Act”), and the Employee Retirement Income Security Act of 1974, as amended (“ERISA”), could result in substantial harm to our reputation and results of operations.\\nCertain of our subsidiaries are subject to laws and regulations applicable to investment platforms, including those applicable to investment advisers under the Advisers Act. The Advisers Act imposes numerous obligations and duties on registered investment advisers, including record-keeping, operating and marketing requirements, disclosure obligations, and prohibitions on self-dealing. The failure of any of these subsidiaries to comply with the Advisers Act could cause the SEC to institute proceedings and impose sanctions for violations, including censure, or to terminate the registration of our subsidiaries as investment advisers or prohibit them from serving as an investment adviser to SEC-registered funds. Similarly, these subsidiaries rely on exemptions from various requirements of ERISA to the extent these subsidiaries receive investments by benefit plan investors. The failure of our relevant subsidiaries to comply with these laws and regulations could irreparably harm our reputation or lead to litigation\\nreceive investments by benefit plan investors. The failure of our relevant subsidiaries to comply with these laws and regulations could irreparably harm our reputation or lead to litigation or regulatory or other legal proceedings, any of which could harm our results of operations.\\n## Risks Relating to Our Organizational Structure\\nOur only material assets are our indirect interests in the We Company Partnership, and we are accordingly dependent upon distributions from the We Company Partnership to pay dividends and taxes and other expenses.\\nThe We Company is a holding company and has no material assets other than an indirect general partner interest and indirect limited partner interests in the We Company Partnership. The We Company has no independent means of generating revenue. We intend to cause our subsidiaries (including the We Company Partnership) to make distributions in an amount sufficient to cover all applicable taxes and other expenses payable and dividends, if any, declared by us. The agreements governing our bank facilities and the indenture governing our senior notes impose, and the agreement governing the 2019 Credit Facility will impose, certain restrictions on distributions by WeWork Companies LLC to us, and may limit our ability to pay cash dividends. The terms of any credit agreements or other borrowing arrangements we or our subsidiaries enter into in the future may impose similar restrictions. To the extent that The We Company needs funds, and any of our direct or indirect subsidiaries is restricted from making such\\nour subsidiaries enter into in the future may impose similar restrictions. To the extent that The We Company needs funds, and any of our direct or indirect subsidiaries is restricted from making such distributions under these debt agreements or applicable law or regulation, or is otherwise unable to provide such funds, it could materially adversely affect our liquidity and financial condition.\\nIf The We Company were deemed an “investment company” under the Investment Company Act of 1940 (the “1940 Act”) as a result of its ownership of the We Company Partnership, applicable restrictions could make it impractical for us to continue our business as contemplated and could have a material adverse effect on our business.\\nSource: S-1 Wework.md.\\nChunk UID: 32f595d7-f289-4d91-9f10-787632263c3e.',\n",
       "  '[6] # Table of Contents\\n\\nWe plan to continue expanding our business into markets outside the United States, which will subject us to risks associated with operating in foreign jurisdictions.\\nExpanding our operations into markets outside the United States has been an important part of our growth strategy. For the six months ended June 30, 2019, 56% of our revenue was attributable to our operations in the United States and 44% of our revenue was attributable to our operations elsewhere, compared with 62% and 38% for the six months ended June 30, 2018. We expect to continue to expand our operations in markets outside the United States in the coming years.\\nWhile we have already expanded our operations to a number of non-U.S. markets, the success of our expansion into additional non-U.S. markets will depend on our ability to attract local members. The solutions, products, and services we offer may not appeal to potential members in all markets in the same way it appeals to our members in markets where we currently operate. In addition, local competitors may have a substantial competitive advantage over us in a given market because of their greater understanding of, and focus on, individuals and organizations in that market, as well as their more established local infrastructure and brands. We may also be unable to hire, train, retain, and manage the personnel we require in order to manage our international operations effectively, on a timely basis or at all, which may limit our growth in these markets. Further, we may experience variability in the terms of our leases (including rent per square foot) and in our capital expenditures as we move into new markets.\\nOperating in international markets requires significant resources and management attention and subjects us to regulatory, economic, and political risks that may be different from and incremental to those that we face in the United States, including:\\n- the need to adapt the design and features of our locations and products and services to accommodate specific cultural norms and language differences;\\n- difficulties in understanding and complying with local laws and regulations in foreign jurisdictions, including local labor laws, tax laws, environmental regulations, and rules and regulations related to occupancy of our locations;\\n- varying local building codes and regulations relating to building design, construction, safety, environmental protection, and related matters;\\n- significant reliance on third parties with whom we may engage in joint ventures, strategic alliances, or ordinary course contracting relationships whose interests and incentives may be adverse to or different from ours or may be unknown to us;\\n- varying laws, rules, regulations, and practices regarding protection and enforcement of intellectual property rights, including trademarks;\\n- varying laws, rules, regulations, and practices regarding protection and enforcement of intellectual property rights, including trademarks;\\n- laws and regulations regarding consumer and data protection and security, and encryption that may be more restrictive than comparable laws and regulations in the United States;\\n- corrupt or unethical practices in foreign jurisdictions that may subject us to compliance costs, including competitive disadvantages, or exposure under applicable anti-corruption and anti-bribery laws;\\n- compliance with applicable export controls and economic sanctions, such as those administered by the United States Office of Foreign Assets Control;\\n- fluctuations in currency exchange rates and compliance with foreign exchange controls and limitations on repatriation of funds; and\\n- unpredictable disruptions as a result of security threats or political or social unrest and economic instability.\\nFinally, continued expansion in markets outside the United States will require significant financial and other investments. These investments include property sourcing and leasing, marketing to attract and retain new members, developing localized infrastructure and services, developing relationships with local partners and third-party service providers, further developing corporate capabilities able to support operations in multiple countries, and potentially entering into strategic transactions with or even acquiring companies based outside the United States and integrating those companies with our existing operations. If we continue to invest substantial time and resources to expand our operations outside the United States, but cannot manage these risks effectively, the costs of doing business in those markets, including the investment of management attention, may be prohibitive, or our expenses may increase disproportionately to the revenue generated in those markets.\\nAs we continue to grow our global platform in new markets, certain metrics may be impacted by the geographic mix of our platform. For example, average revenue per WeWork membership has declined as we have expanded internationally into lower-priced markets, which is a trend we expect could continue in the near term. Also, our overall contribution margin percentage may decline as certain lower margin markets, including markets with a larger target member population such as China, Latin America, and Southeast Asia become a larger portion of our portfolio. Our contribution margin metrics may also be impacted by the speed at which we can open locations and stabilize occupancy at those locations as well as the average revenue per WeWork membership that we generate.\\nSource: S-1 Wework.md.\\nChunk UID: eca95b65-91b0-4734-b980-1d96be98a85f.',\n",
       "  '[7] # Table of Contents\\n## Our Strengths\\n### Global Platform\\n\\n- We have a global brand with a platform spanning 528 locations in 111 cities across 29 countries. Individuals and organizations turn to us directly to solve their workplace needs. As a result, we are able to aggregate demand and match an individual or organization to the right space, at the right time, at the right price.\\n- We offer a space-as-a-service model that we operationalize by using a global-local playbook powered by technology.\\n### Attractive Economics\\n- As of June 30, 2019, our run-rate revenue was $3.3 billion, representing 86% year-over-year growth, and our committed revenue backlog was $4.0 billion, approximately eight times our committed revenue backlog as of December 31, 2017.\\n- We strive to operate our business so that each new location is accretive to our long-term financial performance, resulting in growing contribution margin. We strategically cluster locations in cities, leading to greater brand awareness and economies of scale, which, in turn, drives stronger monetization of our global platform.\\n### Future Impact\\n- We estimate that our penetration in our 280 target cities globally is approximately 0.2%. We have invested in the infrastructure for us to expand in existing and new markets, as well as expand the scope of our solutions and the products and services we offer our members.\\n- We have created a powerful ecosystem and brand that benefit not only our members and partners, but also our landlords, neighborhoods, and cities through shared value creation. We believe our powerful brand, global footprint, scalable business model, and cost advantage are significant competitive advantages that will allow us to further penetrate existing and new markets and maximize the future impact of the WeWork effect.\\n## Our Growth Strategy\\nWe are focused on long-term sustainable growth and intend to continue to learn from our data and experiences to innovate on what drives our member success and execute using our purpose-built technology and mission-driven team. We believe that we have laid the foundation to capitalize on our significant market opportunity by continuing to reinvent the future of work.\\nWe intend to grow by:\\n- Expanding in new and existing markets.\\n- Enhancing product and service offerings.\\n- Developing and strengthening relationships with enterprise members.\\n- Lowering upfront capital costs and improving operational efficiency.\\n- Investing in technology.\\n## Recent Developments\\nWe aim to optimize our access to the capital markets and seek to have broad-based relationships with financial institutions. In connection with this offering, we are expanding our relationships with banks from across the globe. In particular, in August, we entered into a commitment letter for a new senior secured credit facility providing for up to $6.0 billion, which is expected to close concurrently with the closing of the offering, with JPMorgan Chase Bank, N.A., Goldman Sachs Bank USA, Goldman Sachs Lending Partners LLC, Bank of America, N.A., BofA Securities, Inc., Barclays Bank PLC, Citigroup Global Markets Inc., Credit Suisse AG, Cayman Islands Branch, Credit Suisse Loan Funding LLC, HSBC Bank USA, National Association, HSBC Securities (USA) Inc., UBS AG, Stamford Branch, UBS Securities LLC, Wells Fargo Bank, National Association, and Wells Fargo Securities, LLC, who are affiliates of the underwriters. See “Management’s Discussion and Analysis of Financial Condition and Results of Operations —Recent\\nBank, National Association, and Wells Fargo Securities, LLC, who are affiliates of the underwriters. See “Management’s Discussion and Analysis of Financial Condition and Results of Operations —Recent Developments—Debt Financing Transactions”.\\n## Risk Factors\\nOur business is subject to a number of risks and uncertainties, as more fully described under “Risk Factors” in this prospectus. These risks could materially and adversely impact our business, financial condition, results of operations, and prospects, which could cause the trading price of our Class A common stock to decline and could result in a loss of all or part of your investment. Some of these risks include:\\nSource: S-1 Wework.md.\\nChunk UID: 039ca476-a292-4b97-9e46-59b0394fde57.',\n",
       "  '[8] # Table of Contents\\n\\nfile from time to time, additional trademark, copyright, and patent applications. Nevertheless, these applications may not proceed to registration or issuance and in any event may not be comprehensive (particularly with respect to non-U.S. jurisdictions), third parties may challenge any trademarks, copyrights, or patents issued to or held by us, the agreements (including license agreements with local or other strategic partners) and security measures we have in place may be inadequate or otherwise fail to effectively accomplish their protective purposes, third parties may infringe or misappropriate our intellectual property rights, and we may not be successful in asserting intellectual property rights against third parties. Third parties may also take the position that we are infringing their rights, and we may not be\\n28/08/2024, 10:55                          S-1\\nWe have been successful in defending these claims. For example, we have received correspondence from third parties asserting potential claims of trademark infringement with respect to some of our WE names and trademarks. We dispute these assertions. Additionally, we may not be able to enforce or defend our proprietary rights or prevent infringement or misappropriation without substantial expense to us and a significant diversion of management time and attention from our business strategy.\\nWe currently hold various domain names relating to our brand, most importantly **wework.com**, **we.co**, **wegrow.com**, and **welive.com**, as well as several other **@we** and **@wework** social media handles. Competitors and others could attempt to capitalize on our brand recognition by using domain names or social media handles similar to those we hold. We may be unable, without significant cost or at all, to maintain or protect our use of domain names and social media handles or prevent third parties from acquiring domain names or social media handles that are similar to, infringe upon, or otherwise decrease the value of our trademarks and other proprietary rights in our domain names.\\nIf the measures we have taken to protect our proprietary rights are inadequate to prevent unauthorized use or misappropriation by third parties or such rights are diminished or we are prevented from using intellectual property due to successful third-party challenges, the value of our brand and other intangible assets may be diminished and our business and results of operations may be adversely affected.\\nWe rely on a combination of proprietary and third-party technology systems to support our business and member experience, and, if these systems experience difficulties, our business, financial condition, results of operations, and prospects may be materially adversely affected.\\nWe use a combination of proprietary technology and technology provided by third-party service providers to support our business and our member experience. For example, the WeWork app, which we developed in-house but which incorporates third-party and open-source software where appropriate, connects local communities and develops and deepens connections among our members, both at particular spaces and across our global network.\\nWe also use technology of third-party service providers to help manage the daily operations of our business. For example, we rely on our own internal systems as well as those of third-party service providers to process membership payments and other payments from our members.\\nTo the extent we experience difficulties in the operation of technologies and systems we use to manage the daily operations of our business or that we make available to our members, our ability to operate our business, retain existing members, and attract new members may be impaired. We may not be able to attract and retain sufficiently skilled and experienced technical or operations personnel and third-party contractors to operate and maintain these technologies and systems, and our current product and service offerings may not continue to be, and new product and service offerings may not be supported by the applicable third-party service providers on commercially reasonable terms or at all.\\nMoreover, we may be subject to claims by third parties who maintain that our service providers’ technology infringes the third party’s intellectual property rights. Although our agreements with our third-party service providers often contain indemnities in our favor with respect to these eventualities, we may not be indemnified for these claims or we may not be successful in obtaining indemnification to which we are entitled.\\nAlso, any harm to our members’ personal computers or other devices caused by our software, such as the WeWork app, or other sources of harm, such as hackers or computer viruses, could have an adverse effect on the member experience, our reputation, and our results of operations and financial condition.\\nIf our proprietary information and/or data we collect and store, particularly billing and personal data, were to be accessed by unauthorized persons, our reputation, competitive advantage, and relationships with our members could be harmed and our business could be materially adversely affected.\\nSource: S-1 Wework.md.\\nChunk UID: c58d1712-8ddf-4559-92df-90c26b9eb146.',\n",
       "  '[9] # Table of Contents\\n\\nAdditionally, although we do not generally expect this to be the case, investments through real estate acquisition vehicles managed or sponsored by ARK may require that we directly incur or guarantee debt, which we expect will typically be through loans secured by assets or properties that ARK acquires. For example, an entity in which we hold an interest has incurred a secured loan to purchase certain property in New York City, which we have leased from that entity. The secured loan is recourse to The We Company in certain limited circumstances, and The We Company also provided performance guarantees relating to the development of that property. See “Description of Indebtedness—424 Fifth Venture Loans”.\\nOur business will suffer if we are unable to hire, develop, retain, and motivate highly skilled and dedicated team members to support our mission.\\nWe strive to attract and motivate team members who share a dedication to the member community and our vision, but we may not be successful in doing so. Our success depends on our ability to identify, hire, develop, motivate, retain, and integrate highly qualified personnel dedicated to our mission for all areas of our business. Our U.S.-based team members, including most of our senior management, work for us on an at-will basis. Other companies, including competitors, may be successful in recruiting and hiring team members away from us, and it may be difficult for us to find suitable replacements on a timely basis, on competitive terms, or at all. If we are unable to effectively manage our hiring needs or successfully integrate new hires, our employee morale, productivity, and retention could suffer, which could adversely affect our business, financial condition, and results of operations. Additionally, the success of each of our new and existing locations depends on our ability to hire and retain dedicated\\nadversely affect our business, financial condition, and results of operations. Additionally, the success of each of our new and existing locations depends on our ability to hire and retain dedicated community managers and community team members. As we enter new geographic markets and launch new solutions, products, and services, we may experience difficulty attracting employees in the areas we require who are dedicated to our mission.\\nWe may not be able to compete effectively with others.\\nOur WeWork space-as-a-service offering has few barriers to entry. While we consider ourselves to be a leader in the space-as-a-service sector, with core competencies in finding, building, filling, and running new locations, our reported success may encourage people to launch competing flexible workspace offerings. If new companies decide to launch competing solutions in the markets in which we operate, or if any existing competitors obtain a large-scale capital investment, we may face increased competition for members.\\nIn addition, some of the business services we offer or plan to offer are provided by one or more large, national or international companies, as well as by regional and local companies of varying sizes and resources, some of which may have accumulated substantial goodwill in their markets. Some of our competitors may also be better capitalized than we are, have access to better lease terms than we do, have operations in more jurisdictions than we do, or be able or willing to provide services at a lower price than we are. Our inability to compete effectively in growing or maintaining our membership base could hinder our growth or adversely impact our operating results.\\nOur limited operating history and evolving business make it difficult to evaluate our current business and future prospects.\\nOur limited operating history and the growth of our business make it difficult to accurately assess our future prospects. It may not be possible to discern fully the economic and other business trends that we are subject to. Elements of our business strategy are new and subject to ongoing development as our operations mature. In addition, it may be difficult to evaluate our business because there are few other companies that offer the same or a similar range of solutions, products, and services as we do.\\nCertain of the measures we use to evaluate our financial and operating performance are subject to inherent challenges in measurement and may be impacted by subjective determinations and not necessarily by changes in our business.\\nWe track certain operational metrics, including key performance indicators such as memberships, workstation capacity, and enterprise membership percentage, with internal systems and tools that are not independently verified by any third party. Certain of our operational metrics are also based on assumptions or estimates of future events. In particular, the tenant improvement reimbursement amounts used to calculate net capex per workstation added represent the full tenant improvement allowances in our leases with landlords, rather than the amounts we have collected from landlords or submitted for reimbursement. Similarly, the number of workstations in our open locations, pre-open locations, and pipeline locations is compiled from a number of data sources depending on the phase of the location within the lifecycle that we attribute to our locations. For open locations, workstation capacity for shared workspace offerings, which account for a subset of our standard workspace solutions, is estimated on a\\nSource: S-1 Wework.md.\\nChunk UID: 8358af51-0220-45f2-84bf-c983eec9329e.',\n",
       "  '[10] # TABLE OF CONTENTS\\n\\n- Prospectus Summary                                                 1\\n- Risk Factors                                                      24\\n- Cautionary Note Regarding Forward-Looking Statements              53\\n- Market, Industry and Other Data                                   55\\n- Use of Proceeds                                                   56\\n- Dividend Policy                                                   57\\n- Capitalization                                                    58\\n- Dilution                                                          60\\n- Selected Historical Consolidated Financial and Operating Information 62\\n- Management’s Discussion and Analysis of Financial Condition and Results of Operations 65\\n- Business                                                          127\\n- Management                                                        172\\n- Executive Compensation                                            177\\n- Principal Stockholders                                            185\\n- Executive Compensation                                            177\\n- Principal Stockholders                                            185\\n- Description of Capital Stock                                      189\\n- Description of Indebtedness                                       195\\n- Certain Relationships and Related Party Transactions              197\\n- Shares Eligible for Future Sale                                   208\\n- U.S. Federal Income Tax Considerations for Non-U.S. Holders       210\\n- Underwriting                                                      213\\n- Legal Matters                                                     220\\n- Experts                                                           220\\n- Where You Can Find More Information                               220\\n- Index to Consolidated Financial Statements                        F-1\\nYou should rely only on the information contained in this prospectus or contained in any free writing prospectus that we have filed with the Securities and Exchange Commission (the “SEC”). Neither we nor the underwriters have authorized anyone to provide you with additional information. We take no responsibility for, and can provide no assurance as to the reliability of, any other information that others may give you. The information contained in this prospectus is accurate only as of the date of this prospectus, regardless of the time of delivery of this prospectus or any sale of shares of our Class A common stock. Our business, financial condition, results of operations and prospects may have changed since that date.\\nWe are offering to sell, and seeking offers to buy, our Class A common stock only in jurisdictions where offers and sales are permitted. For investors outside the United States: Neither we nor any of the underwriters have done anything that would permit this offering or possession or distribution of this prospectus in any jurisdiction where action for that purpose is required, other than in the United States. Persons outside the United States who come into possession of this prospectus must inform themselves about, and observe any restrictions relating to, this offering and the distribution of this prospectus outside the United States.\\nUnless otherwise indicated or the context otherwise requires, all references in this prospectus to “we”, “our”, “us”, “the Company” and “our company” refer to The We Company (or any predecessor entities, including WeWork Companies Inc.) and its consolidated subsidiaries. Certain amounts, percentages and other figures presented in this prospectus have been subject to rounding adjustments. Accordingly, figures shown as totals, dollars or percentages may not represent the arithmetic summation or calculation of the figures that accompany them.\\nUntil ____, 2019 (25 days after the date of this prospectus), all dealers that buy, sell or trade in our Class A common stock, whether or not participating in this offering, may be required to deliver a prospectus. This is in addition to the dealers’ obligation to deliver a prospectus when acting as underwriters and with respect to their unsold allotments or subscriptions.\\n# PROSPECTUS SUMMARY\\nThis summary highlights selected information contained elsewhere in this prospectus. This summary does not contain all of the information that you should consider before deciding whether to purchase our Class A common stock in this offering. You should read the entire prospectus carefully, including the sections titled “Risk Factors” and “Cautionary Note Regarding Forward-Looking Statements,” before making an investment decision.\\nWe use the term “members” to refer to the individuals and organizations that enter into membership agreements with us and “memberships” to refer to the cumulative number of memberships that they purchase. “Memberships” include both WeWork memberships (which provide access to a workstation) and on-demand memberships (which provide access to shared workstations or private spaces as needed, by the minute, by the hour or by the day).\\n## Our Story\\nWe are a community company committed to maximum global impact. Our mission is to elevate the world’s consciousness. We have built a worldwide platform that supports growth, shared experiences and true success. We provide our members with flexible access to beautiful spaces, a culture of inclusivity and the energy of an inspired community, all connected by our extensive technology infrastructure. We believe our company has the power to elevate how people work, live and grow.\\nSource: S-1 Wework.md.\\nChunk UID: adf38b59-4f30-4c8f-a415-2f5fa323018b.']}"
      ]
     },
     "execution_count": 11,
     "metadata": {},
     "output_type": "execute_result"
    }
   ],
   "source": [
    "if tool_call.function.name == \"retrieving-rag\":\n",
    "    tool_result = pipeline.trigger(\n",
    "        namespace_id=namespace,\n",
    "        pipeline_id=\"retrieving-rag\",\n",
    "        data=[args]\n",
    "    )['outputs'][0]\n",
    "    result = tool_result['chunks']\n",
    "elif tool_call.function.name == \"retrieving-extract\":\n",
    "    tool_result = pipeline.trigger(\n",
    "        namespace_id=namespace,\n",
    "        pipeline_id=\"retrieving-extract\",\n",
    "        data=[args]\n",
    "    )['outputs'][0]\n",
    "    result = tool_result\n",
    "tool_result"
   ]
  },
  {
   "cell_type": "markdown",
   "metadata": {},
   "source": [
    "## 6. Formulate Agent Response\n",
    "\n",
    "Here we append the tool call result to the messages which are then used to create a new ChatCompletion object to return the result to the executing agent"
   ]
  },
  {
   "cell_type": "code",
   "execution_count": 12,
   "metadata": {},
   "outputs": [
    {
     "name": "stderr",
     "output_type": "stream",
     "text": [
      "2025-02-11 22:45:30,763.763 INFO     HTTP Request: POST https://api.openai.com/v1/chat/completions \"HTTP/1.1 200 OK\"\n"
     ]
    },
    {
     "data": {
      "text/plain": [
       "\"WeWork faces several significant risks that could adversely affect its business operations, financial condition, and growth prospects. Here are the main risks identified:\\n\\n1. **Sustainability of Rapid Growth**: WeWork has experienced rapid growth, but this may not be sustainable. The company may struggle to maintain its historical growth rates due to increased competition and market saturation. As it expands into new markets, the ability to find reasonably priced opportunities for new locations may become limited, which could hinder growth [1][2].\\n\\n2. **Operational Challenges**: The rapid expansion places a strain on WeWork's resources, potentially leading to operational inefficiencies. If the company fails to manage its growth effectively, it may face increased capital expenditures and operating costs that could outpace revenue growth, adversely impacting its financial results [1][4].\\n\\n3. **Profitability Concerns**: WeWork has a history of losses and may continue to face challenges in achieving profitability. The company has incurred significant net losses in recent years, and ongoing investments in growth and member services may further complicate its path to profitability [4][5].\\n\\n4. **Membership Retention and Demand**: The company relies heavily on membership sales for revenue. WeWork may struggle to retain existing members or attract new ones, especially if members perceive better value elsewhere or if economic conditions worsen. Factors such as geopolitical uncertainty and competition could negatively impact demand for memberships [4][5].\\n\\n5. **Regulatory and Compliance Risks**: Operating in multiple jurisdictions exposes WeWork to various regulatory, legal, and compliance risks. Changes in laws or regulations could lead to increased operational costs and affect the company's ability to conduct business effectively [5][6].\\n\\n6. **International Expansion Risks**: As WeWork continues to expand internationally, it faces unique challenges, including cultural differences, local competition, and regulatory hurdles. The success of its international operations depends on the ability to adapt its offerings to local markets, which may not always be successful [6][7].\\n\\n7. **Technological Dependence**: WeWork relies on a combination of proprietary and third-party technology systems to support its operations. Any disruptions or failures in these systems could adversely affect member experience and operational efficiency [8][9].\\n\\n8. **Market Competition**: The flexible workspace market has low barriers to entry, leading to increased competition. New entrants and existing competitors with better capital or resources could challenge WeWork's market position, impacting its ability to grow and maintain its membership base [9][10].\\n\\nThese risks highlight the complexities and challenges WeWork faces as it navigates its growth strategy in a competitive and evolving market landscape.\""
      ]
     },
     "execution_count": 12,
     "metadata": {},
     "output_type": "execute_result"
    }
   ],
   "source": [
    "messages.append(completion.choices[0].message)  # append model's function call message\n",
    "messages.append({                               # append result message\n",
    "    \"role\": \"tool\",\n",
    "    \"tool_call_id\": tool_call.id,\n",
    "    \"content\": str(result)\n",
    "})\n",
    "\n",
    "response_completion = client.chat.completions.create(\n",
    "    model=\"gpt-4o-mini\",\n",
    "    messages=messages,\n",
    "    tools=tools,\n",
    "    temperature=0.0,\n",
    "    top_p=0.95\n",
    ")\n",
    "\n",
    "response_completion.choices[0].message.content"
   ]
  },
  {
   "cell_type": "code",
   "execution_count": 13,
   "metadata": {},
   "outputs": [
    {
     "name": "stdout",
     "output_type": "stream",
     "text": [
      "WeWork faces several significant risks that could adversely affect its business operations, financial condition, and growth prospects. Here are the main risks identified:\n",
      "\n",
      "1. **Sustainability of Rapid Growth**: WeWork has experienced rapid growth, but this may not be sustainable. The company may struggle to maintain its historical growth rates due to increased competition and market saturation. As it expands into new markets, the ability to find reasonably priced opportunities for new locations may become limited, which could hinder growth [1][2].\n",
      "\n",
      "2. **Operational Challenges**: The rapid expansion places a strain on WeWork's resources, potentially leading to operational inefficiencies. If the company fails to manage its growth effectively, it may face increased capital expenditures and operating costs that could outpace revenue growth, adversely impacting its financial results [1][4].\n",
      "\n",
      "3. **Profitability Concerns**: WeWork has a history of losses and may continue to face challenges in achieving profitability. The company has incurred significant net losses in recent years, and ongoing investments in growth and member services may further complicate its path to profitability [4][5].\n",
      "\n",
      "4. **Membership Retention and Demand**: The company relies heavily on membership sales for revenue. WeWork may struggle to retain existing members or attract new ones, especially if members perceive better value elsewhere or if economic conditions worsen. Factors such as geopolitical uncertainty and competition could negatively impact demand for memberships [4][5].\n",
      "\n",
      "5. **Regulatory and Compliance Risks**: Operating in multiple jurisdictions exposes WeWork to various regulatory, legal, and compliance risks. Changes in laws or regulations could lead to increased operational costs and affect the company's ability to conduct business effectively [5][6].\n",
      "\n",
      "6. **International Expansion Risks**: As WeWork continues to expand internationally, it faces unique challenges, including cultural differences, local competition, and regulatory hurdles. The success of its international operations depends on the ability to adapt its offerings to local markets, which may not always be successful [6][7].\n",
      "\n",
      "7. **Technological Dependence**: WeWork relies on a combination of proprietary and third-party technology systems to support its operations. Any disruptions or failures in these systems could adversely affect member experience and operational efficiency [8][9].\n",
      "\n",
      "8. **Market Competition**: The flexible workspace market has low barriers to entry, leading to increased competition. New entrants and existing competitors with better capital or resources could challenge WeWork's market position, impacting its ability to grow and maintain its membership base [9][10].\n",
      "\n",
      "These risks highlight the complexities and challenges WeWork faces as it navigates its growth strategy in a competitive and evolving market landscape.\n"
     ]
    }
   ],
   "source": [
    "print(response_completion.choices[0].message.content)"
   ]
  }
 ],
 "metadata": {
  "kernelspec": {
   "display_name": "instill2",
   "language": "python",
   "name": "python3"
  },
  "language_info": {
   "codemirror_mode": {
    "name": "ipython",
    "version": 3
   },
   "file_extension": ".py",
   "mimetype": "text/x-python",
   "name": "python",
   "nbconvert_exporter": "python",
   "pygments_lexer": "ipython3",
   "version": "3.11.9"
  }
 },
 "nbformat": 4,
 "nbformat_minor": 2
}
