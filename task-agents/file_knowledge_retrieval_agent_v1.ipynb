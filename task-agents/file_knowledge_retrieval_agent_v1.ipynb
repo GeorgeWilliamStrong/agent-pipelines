{
 "cells": [
  {
   "cell_type": "markdown",
   "metadata": {},
   "source": [
    "# File Knowledge Retrieval Agent"
   ]
  },
  {
   "cell_type": "markdown",
   "metadata": {},
   "source": [
    "## 0. Import Libraries\n",
    "\n",
    "Import and initialize the necessary libraries."
   ]
  },
  {
   "cell_type": "code",
   "execution_count": 1,
   "metadata": {},
   "outputs": [
    {
     "name": "stderr",
     "output_type": "stream",
     "text": [
      "WARNING: All log messages before absl::InitializeLog() is called are written to STDERR\n",
      "E0000 00:00:1740609438.736641 87143973 hpack_parser.cc:1008] Error parsing 'grpc-status' metadata: not an integer\n",
      "2025-02-26 22:37:18,739.739 WARNING  Instill App is not serving, App functionalities will not work\n"
     ]
    }
   ],
   "source": [
    "from openai import OpenAI\n",
    "from instill.clients import init_pipeline_client\n",
    "import os\n",
    "\n",
    "pipeline = init_pipeline_client(api_token=os.environ[\"INSTILL_API_TOKEN\"])\n",
    "client = OpenAI()"
   ]
  },
  {
   "cell_type": "markdown",
   "metadata": {},
   "source": [
    "## 1. Initialize Variables\n",
    "\n",
    "Here we set the outputs from the executing agent, as well as the parameters defined by Agent-BE, user interaction and other add-on pipelines."
   ]
  },
  {
   "cell_type": "code",
   "execution_count": 2,
   "metadata": {},
   "outputs": [],
   "source": [
    "# Catalog and namespace for retrieval\n",
    "catalog_name = \"benchmark-s1-wework\"\n",
    "namespace = \"george_strong\"\n",
    "\n",
    "# File summary from indexing-generate-summary pipeline\n",
    "file_summary = \"\"\"\n",
    "This document contains the S-1 Registration Statement for WeWork Companies Inc., filed with the Securities and Exchange Commission on August 14, 2019. It provides a comprehensive overview of the company's business model, which focuses on offering flexible workspace solutions through a \"space-as-a-service\" membership model, catering to a diverse clientele that includes freelancers, startups, and large enterprises. The document highlights WeWork's rapid growth, showcasing a committed revenue backlog of $4.0 billion as of June 30, 2019, alongside significant increases in memberships and revenue.\n",
    "\n",
    "Key sections include an analysis of risk factors, financial performance, and strategic growth plans, emphasizing market expansion and product enhancement. It details the company's capital structure, including various stock classes and their voting rights, as well as significant relationships with major investors like SoftBank. The financial statements reflect substantial increases in revenue and operating expenses, alongside notable net losses, while also addressing lease-related liabilities and assets in accordance with accounting standards.\n",
    "\n",
    "Additionally, the document discusses WeWork's acquisitions, stock-based compensation, and related party transactions, providing insights into the company's operational strategies and financial health. Overall, this registration statement serves as a detailed prospectus for potential investors, outlining both the opportunities and risks associated with investing in WeWork.\n",
    "\"\"\"\n",
    "\n",
    "# Instruction from executing agent\n",
    "instruction = \"identify who Adam Neumann is in relation to WeWork\"\n",
    "\n",
    "# State context from executing agent\n",
    "state_context = \" \"\n",
    "\n",
    "# Recommend actions from executing agent\n",
    "recommend_actions = \" \"\n",
    "\n",
    "# User's follow-up query\n",
    "user_query = \"Who is Adam Neumann?\"\n",
    "\n",
    "# User's chat history\n",
    "chat_history = \" \"\n",
    "\n",
    "# Default relevance threshold for RAG mode\n",
    "relevance_threshold = 0.1\n",
    "\n",
    "# Specify the file name\n",
    "file_name = \"[s1-form-large-file] wework-s1.md\""
   ]
  },
  {
   "cell_type": "code",
   "execution_count": 3,
   "metadata": {},
   "outputs": [],
   "source": [
    "# Preprocess file summary to remove double quotes - can cause issues with JSON parsing\n",
    "file_summary = file_summary.replace('\"', \"'\")\n",
    "chat_history = chat_history.replace('\"', \"'\")\n",
    "user_query = user_query.replace('\"', \"'\")\n",
    "instruction = instruction.replace('\"', \"'\")"
   ]
  },
  {
   "cell_type": "markdown",
   "metadata": {},
   "source": [
    "## 2. Define Prompt and System Message\n",
    "\n",
    "Here we define the prompt and system message templates for the agent."
   ]
  },
  {
   "cell_type": "code",
   "execution_count": 4,
   "metadata": {},
   "outputs": [],
   "source": [
    "SYSTEM_MESSAGE = \"\"\"\n",
    "You are an AI assistant tasked with collecting and aggregating relevant information based on the supervisor's context and the user's query. You should decide whether to use **Retrieval-Augmented Generation (RAG)** (retrieving-rag) or **deep extraction** (retrieving-extract) to gather and synthesize information.\n",
    "\n",
    "Consider the following to help determine which tool to use:\n",
    "1. **Instruction Type**: \n",
    "   - If the instruction requires **specific, factual answers** (e.g., who, what, when, where), use **retrieving-rag** as it excels at retrieving relevant information directly.\n",
    "   - If the instruction involves **general analysis** (e.g., risks, sentiment, patterns), **retrieving-extract** may be more appropriate, as it involves a comprehensive analysis of the content.\n",
    "   \n",
    "2. **Complexity and Risk**: \n",
    "   - If the instruction requires a **nuanced exploration**, where missing key details could compromise the quality of the response, opt for **retrieving-extract** to ensure that a comprehensive analysis is performed.\n",
    "   - For simpler, fact-based queries, **retrieving-rag** is more efficient.\n",
    "\n",
    "3. **Follow-Up Queries**:\n",
    "   - If the user's query **builds upon prior responses** or requires more refined details, a deep extraction approach may be needed to integrate prior knowledge and ensure completeness.\n",
    "\n",
    "4. **Chat History Context**:\n",
    "   - If relevant context exists in the previous conversation, consider how it might refine the query and influence the tool choice.\n",
    "\n",
    "Remember: If neither **retrieving-rag** nor **retrieving-extract** can help address the instruction, refuse the task.\n",
    "\n",
    "You will still return properly formatted bracket citations (e.g., [1][2]) for each referenced source, ensuring correct citation order. The citations should point to the specific file sources that support each piece of information.\n",
    "\n",
    "User Past Conversation History:\n",
    "{chat_history}\n",
    "\n",
    "User Follow-up Query:\n",
    "{user_query}\n",
    "\"\"\"\n",
    "\n",
    "PROMPT = \"\"\"\n",
    "Below is the background/context from your supervisor:\n",
    "${state_context}\n",
    "\n",
    "The supervisor's task description for you is as follows:\n",
    "${instruction}\n",
    "\n",
    "Recommended actions or parameters you may use:\n",
    "${recommend_actions}\n",
    "\n",
    "Please read the information above carefully and decide whether you should call **retrieving-rag** or **retrieving-extract** to gather relevant data.\n",
    "\n",
    "To make the decision, consider the following:\n",
    "\n",
    "1. **Instruction Type**: Does the instruction ask for specific, factual answers (e.g., who, what, when, where)? If so, prefer **retrieving-rag**. If the instruction is more general or asks for broader analysis (e.g., identifying patterns or risks), lean toward **retrieving-extract**.\n",
    "2. **Complexity**: Does the instruction require a nuanced understanding, where missing key details could compromise the result? In this case, **retrieving-extract** is preferable.\n",
    "3. **Follow-Up Query**: If the user's query builds on prior conversation or needs further refinement, consider using **retrieving-extract** to ensure all necessary context is captured.\n",
    "4. **Chat History Context**: Does the chat history provide relevant context that can help refine the decision?\n",
    "\n",
    "Once you have determined which tool to use, gather the necessary data and incorporate it into a comprehensive, well-structured response, embedding bracket citations (e.g., [3][5]) within the text to show which file/chunk sources support each piece of information.\n",
    "\n",
    "# Steps\n",
    "\n",
    "1. Review the given context, user's past conversation history, and follow-up query.\n",
    "2. Decide whether to call **retrieving-rag** (for specific, fact-based queries) or **retrieving-extract** (for general analysis or when deeper exploration is required).\n",
    "3. If necessary, formulate a retrieval query to extract the relevant data and include the appropriate citations in your response.\n",
    "4. After receiving the tool response, decide if further retrievals are needed for completeness.\n",
    "5. Compile a final, comprehensive answer that incorporates the retrieved data and maintains proper citation order.\n",
    "\n",
    "# Output Format\n",
    "\n",
    "• Provide your final answer in clear, well-structured English.\n",
    "• Ensure each reference to an external file source is enclosed in bracket citations (e.g., [1], [2]), corresponding to the relevant file chunks.\n",
    "• Maintain citation order — do not mix them up or omit any.\n",
    "\"\"\""
   ]
  },
  {
   "cell_type": "markdown",
   "metadata": {},
   "source": [
    "## 3. Define Tools\n",
    "\n",
    "Here we define the tools that the agent will use. We have two tools, `retrieving-rag` and `retrieving-extract`. The `retrieving-extract` tool is used when the user has selected deep file analysis. The `retrieving-rag` tool is used when the user has not selected deep file analysis (or the number of chunks is less than or equal to 15)."
   ]
  },
  {
   "cell_type": "code",
   "execution_count": 5,
   "metadata": {},
   "outputs": [
    {
     "name": "stderr",
     "output_type": "stream",
     "text": [
      "2025-02-26 22:37:19,527.527 INFO     HTTP Request: POST https://api.openai.com/v1/chat/completions \"HTTP/1.1 200 OK\"\n"
     ]
    },
    {
     "name": "stdout",
     "output_type": "stream",
     "text": [
      "retrieving-rag\n"
     ]
    }
   ],
   "source": [
    "tools = [\n",
    "{\n",
    "    \"type\": \"function\",\n",
    "    \"function\": {\n",
    "        \"name\": \"retrieving-rag\",\n",
    "        \"description\": \"Retrieves chunks from the document that are semantically relevant to the instruction, user query, and chat history.\",\n",
    "        \"parameters\": {\n",
    "            \"type\": \"object\",\n",
    "            \"properties\": {},\n",
    "            \"required\": [],\n",
    "            \"additionalProperties\": False\n",
    "        },\n",
    "        \"strict\": True\n",
    "    }\n",
    "},\n",
    "{\n",
    "    \"type\": \"function\",\n",
    "    \"function\": {\n",
    "        \"name\": \"retrieving-extract\",\n",
    "        \"description\": \"Performs a deep analysis to extract information relevant to the instruction, user query, and chat history from an entire file with high recall.\",\n",
    "        \"parameters\": {\n",
    "            \"type\": \"object\",\n",
    "            \"properties\": {},\n",
    "            \"required\": [],\n",
    "            \"additionalProperties\": False\n",
    "        },\n",
    "        \"strict\": True\n",
    "    }\n",
    "}]\n",
    "\n",
    "# Set up the messages with the system message and prompt\n",
    "messages = [\n",
    "    {\n",
    "        \"role\": \"system\",\n",
    "        \"content\": SYSTEM_MESSAGE.format(\n",
    "            chat_history=chat_history,\n",
    "            user_query=user_query\n",
    "        )\n",
    "    },\n",
    "    {\n",
    "        \"role\": \"user\",\n",
    "        \"content\": PROMPT.format(\n",
    "            state_context=state_context,\n",
    "            instruction=instruction,\n",
    "            recommend_actions=recommend_actions\n",
    "        )\n",
    "    }\n",
    "]\n",
    "\n",
    "completion = client.chat.completions.create(\n",
    "    model=\"gpt-4o\",\n",
    "    messages=messages,\n",
    "    tools=tools,\n",
    "    temperature=0.0,\n",
    "    top_p=0.95\n",
    ")\n",
    "\n",
    "tool_call = completion.choices[0].message.tool_calls[0]\n",
    "print(tool_call.function.name)"
   ]
  },
  {
   "cell_type": "markdown",
   "metadata": {},
   "source": [
    "## 4. Handle Deep File Analysis\n",
    "\n",
    "If the number of chunks is less than or equal to 15, we will set `deep_analysis` to `False` and set `relevance_threshold` to `0`. The logic is that if the number of chunks is less than or equal to 15, we will retrieve the whole document. By setting the `relevance_threshold` to `0`, we ensure that all chunks are consumed by the agents response (none are filtered out)."
   ]
  },
  {
   "cell_type": "code",
   "execution_count": 6,
   "metadata": {},
   "outputs": [
    {
     "name": "stdout",
     "output_type": "stream",
     "text": [
      "retrieving-rag\n"
     ]
    }
   ],
   "source": [
    "# Default to RAG mode if num_chunks is less than or equal to 15 as the whole document is retrieved\n",
    "if tool_call.function.name == \"retrieving-extract\":\n",
    "    num_chunks = pipeline.trigger(\n",
    "        namespace_id=namespace,\n",
    "        pipeline_id=\"get-num-chunks\",\n",
    "        data=[{\n",
    "            \"catalog-name\": catalog_name,\n",
    "            \"namespace\": namespace\n",
    "        }]\n",
    "    )['outputs'][0]['num-chunks']\n",
    "\n",
    "    if num_chunks <= 15:\n",
    "        tool_call.function.name = \"retrieving-rag\"\n",
    "        relevance_threshold = 0 # We don't want to filter chunks if we're doing deep analysis so we set it to 0\n",
    "print(tool_call.function.name)"
   ]
  },
  {
   "cell_type": "markdown",
   "metadata": {},
   "source": [
    "## 5. Execute the Tool Call\n",
    "\n",
    "We first extract the arguments from the tool call and then execute the tool call.\n"
   ]
  },
  {
   "cell_type": "code",
   "execution_count": 7,
   "metadata": {},
   "outputs": [
    {
     "data": {
      "text/plain": [
       "{'citations': ['Source: [s1-form-large-file] wework-s1.md. Chunk UID: 38da61e3-61e3-405d-9baa-0efc2174d540.',\n",
       "  'Source: [s1-form-large-file] wework-s1.md. Chunk UID: 1707637e-6de5-45c4-86f5-27cc2c50a04b.',\n",
       "  'Source: [s1-form-large-file] wework-s1.md. Chunk UID: 1b17cb51-2820-4a9c-845e-279bb1fbf16c.',\n",
       "  'Source: [s1-form-large-file] wework-s1.md. Chunk UID: 30535ea7-fb7d-4ad8-abab-75c8e4340a9c.',\n",
       "  'Source: [s1-form-large-file] wework-s1.md. Chunk UID: 815be940-7dd4-49e6-bcbb-1d844a036957.',\n",
       "  'Source: [s1-form-large-file] wework-s1.md. Chunk UID: a7c4135d-906a-470f-beb7-515397f9c7a2.'],\n",
       " 'scores': [0.9932025, 0.9623913, 0.684264, 0.44107103, 0.21125406, 0.1606607],\n",
       " 'chunks': [\"[1] ## CERTAIN RELATIONSHIPS AND RELATED PARTY TRANSACTIONS\\n\\nIn addition to the executive officer and director compensation and employment arrangements discussed in 'Management' and 'Executive Compensation', the following is a description of each transaction since January 1, 2016 and each currently proposed transaction in which:\\n- · we have been, are or would be a participant;\\n                                                                                                                                                                                                                                                                                                                        - · the amount involved in the transaction exceeds or will exceed $120,000; and\\n- · any of our directors, executive officers or holders of more than 5% of any class of our capital stock, or any immediate family member of, or person sharing the household with, any of these individuals, had or will have a direct or indirect material interest.\\n## Relationships and Transactions with Adam Neumann, our Co-Founder and Chief Executive Officer\\nAdam has served as the Company's Chief Executive Officer and Chairman of the Company's board of directors since our inception. From the day he co-founded WeWork, Adam has set the Company's vision, strategic direction and execution priorities. Adam is a unique leader who has proven he can simultaneously wear the hats of visionary, operator and innovator, while thriving as a community and culture creator. Given his deep involvement in all aspects of the growth of our company, Adam's personal dealings have evolved across a number of direct and indirect transactions and relationships with the Company. As we make the transition to a public company, we aim to provide clarity and transparency on the history of these relationships and transactions, as well as the background to the strategic governance decisions that have been made by Adam and the Company.\\nThis section also addresses Rebekah Neumann, one of our co-founders who serves as the Company's Chief Brand and Impact Officer as well as the founder and CEO of WeGrow. Rebekah has been a strategic thought partner to Adam since our founding and has actively shaped the mission and strategy of The We Company and its global impact agenda, as well as being the primary voice and leading advocate for the We brand. Rebekah has never been paid a salary from us.\\nSpecifically, this section covers:\\n\\n                                                                                                                                                                                                                                                                                                                        - · Voting controls\\n                                                                                                                                                                                                                                                                                                                        - · Succession planning\\n\\n                                                                                                                                                                                                                                                                                                                        - · Sale of shares\\n                                                                                                                                                                                                                                                                                                                        - · Employment agreement\\n\\n                                                                                                                                                                                                                                                                                                                        - · Equity awards\\n                                                                                                                                                                                                                                                                                                                        - · Charitable giving\\n\\n                                                                                                                                                                                                                                                                                                                        - · Real estate transactions\\n                                                                                                                                                                                                                                                                                                                        - · Company and personal loans\\n\\n                                                                                                                                                                                                                                                                                                                        - · Family relationships\\n\\n\\n## Voting Controls\\nAdam controls a majority of the Company's voting power, principally as a result of his beneficial ownership of our high-vote stock. Since our high-vote stock carries twenty votes per share, Adam will have the ability to control the outcome of matters submitted to the Company's stockholders for approval, including the election of the Company's directors. As a founder-led company, we believe that this voting structure aligns our interests in creating shareholder value. Adam is, however, committed to relinquishing control at a time when he no longer maintains a significant economic interest in The We Company and the share ownership of Adam and certain of his permitted transferees represents less than 5% of the aggregate number of thenoutstanding shares of our capital stock, at which time all of the outstanding high-vote stock would convert to having one vote per share.\\n## Table of Contents\\nAdam and Rebekah Neumann have committed to contribute at least $1 billion to charitable causes by the ten-year anniversary of the closing date of this offering. If that contribution is not met, the outstanding high-vote stock would convert to having ten votes per share. See '-Charitable Giving' below.\\n## Succession Planning\\nAs part of our transition to a public company, our board of directors has spent significant time planning for the transition from a privately controlled company to a public company and put considerable thought into succession planning. In particular, in connection with this offering we are taking measures to provide clarity as to how unexpected transitions in our leadership might occur.\\nIn the event that Adam is permanently disabled or deceased during the ten-year period commencing upon the completion of this offering, a committee will be formed for the sole purpose of selecting a new Chief Executive Officer. The composition of this committee will be as follows:\\nSource: [s1-form-large-file] wework-s1.md.\\nChunk UID: 38da61e3-61e3-405d-9baa-0efc2174d540.\",\n",
       "  '[2] ## Governmental Regulation\\n\\nWe are subject to a wide variety of laws, rules, regulations and standards in the United States and foreign jurisdictions. Like other market participants that operate in numerous jurisdictions and in various service lines, we must comply with a number of regulatory regimes to which we are subject. United States federal, state and local and foreign laws, rules, regulations and standards include employment laws, health and safety regulations, taxation regimes and laws and regulations that govern or restrict our business and activities in certain regions and with certain persons, including economic sanctions regulations, anti-bribery laws and anti-money laundering laws. Some of our offerings also require registrations, permits, licenses and/or approvals from governmental agencies and regulatory authorities, some or all of which may be costly or time consuming to obtain.\\nIn addition, as a developer and operator of real estate, we are subject to local land-use requirements, including regulations that govern zoning, use, building and occupancy, regulations and standards that address indoor environmental requirements, laws that require places of public accommodation and commercial facilities to meet certain requirements related to access and use by disabled persons, and various environmental laws and regulations which may require a current or previous owner or operator of real estate to investigate and remediate the effects of hazardous or toxic substances or petroleum product releases on, under, in or from such property.\\nFurthermore, because we receive, store and use a substantial amount of personally identifiable information received from or generated by our members, we are also subject to laws and regulations governing data privacy, use of personal data and cybersecurity.\\n## Legal Proceedings\\nFrom time to time, we may become involved in legal or regulatory proceedings arising in the ordinary course of our business, including personal injury claims, intellectual property claims and commercial contract disputes. In addition, with respect to employees and others, we face and could in the future face a wide variety of claims, including discrimination (for example, based on gender, age, race or religious affiliation), sexual harassment, privacy, labor and employment, ERISA and disability claims. Often these cases raise complex factual and legal issues, which are subject to risks and uncertainties and which could require significant management time and corporate resources to defend, could result in significant media coverage and negative publicity, and could be harmful to our reputation and our brand. Although the outcome of these and other claims cannot be predicted with certainty, we are not currently a party to any litigation or regulatory proceeding that we expect to have a material adverse effect\\nthe outcome of these and other claims cannot be predicted with certainty, we are not currently a party to any litigation or regulatory proceeding that we expect to have a material adverse effect on our business, results of operations, financial condition or cash flows.\\n## Our Leadership Team\\nThe following sets forth certain information relating to our co-founders and global leadership team as of June 30, 2019.\\n## Adam Neumann\\nCo-Founder, Chief Executive Officer and Chairman of the Board\\nAdam, 40, is one of our co-founders and has served as our Chief Executive Officer and Chairman of the Board since our inception. He serves on our board of directors because of the perspective and experience he brings as our Co-Founder and Chief Executive Officer. We believe his strategic insight, leadership and commitment to the growth of our global team and community will provide us the leadership we need to execute our vision. Adam is married to Rebekah Neumann and is an executive officer.\\n## Rebekah Neumann\\nCo-Founder, Chief Brand and Impact Officer Founder and CEO of WeGrow\\nRebekah is one of our co-founders and serves as our Chief Brand and Impact Officer. She is also the founder and CEO of WeGrow. Rebekah is married to Adam Neumann.\\n## Miguel McKelvey\\nCo-Founder and Chief Culture Officer\\nMiguel is one of our co-founders and serves as our Chief Culture Officer. He previously served as our Chief Creative Officer.\\n## Jennifer Berrent\\nCo-President and Chief Legal Officer\\nJen, 47, has served as one of our Presidents since April 2019 and as Chief Legal Officer since June 2016. From October 2014 to April 2019, she held a variety of positions in the organization, including Chief Operating Officer, Chief Culture Officer and General Counsel. From March 2006 to October 2014, she was a lawyer at Wilmer Cutler Pickering Hale and Dorr LLP, where she served as a partner from January 2011 to October 2014. Jen is an executive officer.\\n## Michael Gross\\nVice Chair\\nMichael has served as a Vice Chair since 2015. Prior to his current role, he served as our Chief Financial Officer from 2013 to 2015. He previously served as Chief Executive Officer of Morgan Hotel Group.\\n## Arthur Minson\\nCo-President and Chief Financial Officer\\nSource: [s1-form-large-file] wework-s1.md.\\nChunk UID: 1707637e-6de5-45c4-86f5-27cc2c50a04b.',\n",
       "  \"[3] \\n                                                        - · the sustainability of our rapid growth and our ability to manage our growth effectively;\\n                                                        - · our ability to expand in new and existing markets and enhance our solutions and product and service offerings;\\n                                                        - · our ability to achieve profitability at a company level in light of our history of losses;\\n                                                        - · our ability to retain existing members and attract new members;\\n                                                        - · risks related to the long-term and fixed-cost nature of our leases;\\n                                                        - · risks relating to our ability to generate sufficient cash and to obtain financing on adequate terms;\\n                                                        - · our ability to maintain the value and reputation of our brand;\\n\\n                                                        - · our ability to maintain the value and reputation of our brand;\\n                                                        - · risks related to our transactions with related parties;\\n                                                        - · our Co-Founder and Chief Executive Officer has control over key decision-making as a result of his control over a majority of the total voting power of our outstanding capital stock; and\\n                                                        - · the success of our strategic partnerships.\\n\\n\\n## Implications of Being an Emerging Growth Company\\nWe will be treated as an 'emerging growth company', as defined in the Jumpstart Our Business Startups Act of 2012 (the 'JOBS Act'), for certain purposes until the earlier of the date we complete this offering and December 31, 2019. As such, we are permitted to rely on exemptions from certain disclosure and other requirements that are applicable to other public companies that are not emerging growth companies. In particular, in this prospectus, we have taken advantage of certain reduced disclosure obligations regarding the provision of selected financial data and executive compensation arrangements. We have also taken advantage of the extended transition period for complying with new or revised accounting standards available to emerging growth companies. Accordingly, the information contained in this prospectus may be different from the information you might receive from other public companies. See 'Management's Discussion and Analysis of Financial Condition and Results of OperationsJOBS Act'.\\n## Our Principal Stockholder and Our Status as a Controlled Company\\nFollowing the completion of this offering, as a result of his share ownership, together with his voting arrangements with certain stockholders, Adam Neumann, our Co-Founder and Chief Executive Officer, will be able to exercise voting control with respect to an aggregate of                  shares of our Class A common stock,                  shares of our Class B common stock and                      shares of our Class C common stock, representing approximately     % of the total voting power of our outstanding capital stock (or approximately     % of the total voting power of our outstanding capital stock if the underwriters exercise in full their option to purchase additional shares of our Class A common stock). Accordingly, Adam will have the ability to control the outcome of matters submitted to our stockholders for approval, including the election of our directors. As a founder-led company, we believe that this voting structure aligns our interests in creating stockholder value.\\nBecause Adam will control a majority of our outstanding voting power, we will be a 'controlled company' under the corporate governance rules for -listed companies. Therefore, we may elect not to comply with certain corporate governance standards, such as the requirement that our board of directors have a compensation committee and nominating and corporate governance committee composed entirely of independent directors. For at least some period following completion of this offering, we intend to take advantage of these exemptions.\\n## Corporate Information\\nThe We Company was incorporated under the laws of the state of Delaware in April 2019 as a direct wholly-owned subsidiary of WeWork Companies Inc. As a result of various reorganization transactions undertaken in July 2019, The We Company became the holding company of our business, and the then-stockholders of WeWork Companies Inc. became the stockholders of The We Company.\\nSource: [s1-form-large-file] wework-s1.md.\\nChunk UID: 1b17cb51-2820-4a9c-845e-279bb1fbf16c.\",\n",
       "  \"[4] \\n\\nTransactions-Operating Partnership'. Adam Neumann has voting and dispositive power over these 118,730 partnership interests and has voting power over the shares of our Class C common stock corresponding to these partnership interests. \\n- (6) Consists of (i) 371,017 shares of our Class B common stock held of record by Artie Minson over which Artie Minson has dispositive power, (ii) 76,177 shares of our Class B common stock held by the Minson Annuity Trust dated June 2, 2015, of which Artie Minson is the trustee and over which shares Artie Minson has dispositive power, and (iii) 1,461,863 shares of our Class B common stock over which Artie Minson has the right to acquire dispositive power within 60 days after August 12, 2019 upon the exercise of stock options. WE Holdings LLC and Adam Neumann each hold an irrevocable proxy over all of the shares held by Artie Minson and Minson Annuity Trust dated June 2, 2015 pursuant to voting arrangements among WE Holdings LLC, Adam Neumann and such stockholders. In addition, Artie Minson holds profits interests in the We Company Partnership, none of which will be vested within 60 days after August 12, 2019. Artie has voting and dispositive power over all of these profits interests but does not have voting or dispositive power over any of the corresponding shares of our Class C common stock. \\n- (7) Consists of (i) 238,320 shares of our Class B common stock held of record by Jen Berrent over which Jen Berrent has dispositive power or the right to acquire dispositive power within 60 days after August 12, 2019, (ii) 99,551 shares of our Class B common stock held by the Berrent 2015 Annuity Trust dated June 1, 2015, of which Jen Berrent is the trustee and over which shares Jen Berrent has dispositive power, (iii) 10,669 shares of our Class A common stock over which Jen Berrent has the right to acquire dispositive power within 60 days after August 12, 2019 upon the exercise of stock options, (iv) 10,921 shares of our Class B common stock over which Jen Berrent has the right to acquire dispositive power within 60 days after August 12, 2019 upon the exercise of stock options and (v) 99,264 shares of our Class A common stock over which Jen Berrent will have dispositive power within 60 days after August 12, 2019 upon the vesting and settlement of restricted stock units for which the performance-based vesting condition will be satisfied upon the completion of this offering and for which the time-based vesting condition will be satisfied as of such date. WE Holdings LLC and Adam Neumann each hold an irrevocable proxy \\nsatisfied upon the completion of this offering and for which the time-based vesting condition will be satisfied as of such date. WE Holdings LLC and Adam Neumann each hold an irrevocable proxy over all of the shares held by Jen Berrent and Berrent 2015 Annuity Trust dated June 1, 2015 pursuant to voting arrangements among WE Holdings LLC, Adam Neumann and such stockholders. In addition, Jen holds profits interests in the We Company Partnership, none of which will be vested within 60 days after August 12, 2019. Jen has voting and dispositive power over all of these profits interests but does not have voting or dispositive power over any of the corresponding shares of our Class C common stock. \\nSource: [s1-form-large-file] wework-s1.md.\\nChunk UID: 30535ea7-fb7d-4ad8-abab-75c8e4340a9c.\",\n",
       "  \"[5] ## Table of Contents\\n\\nAs part of this award, Adam received options to purchase an aggregate of 42,473,167 shares. All of Adam's awards vest over time based on Adam's continuing service as our Chief Executive Officer and contemplate up to a ten-year time horizon for full vesting. A majority of Adam's awards are also tied to the Company's performance as a public company, particularly an increase in our market capitalization that is sustained over a period of at least 60 days.\\nBy connecting these awards to service to the Company and long-term value creation, our board believes we have set the foundation for long-term incentive alignment between Adam and our stockholders. The awards provide as follows:\\n- · 9,438,481 options vest monthly over a period of five years following the date of grant;\\n                                                                                                                                                                                                                                                                                                                                    - · 9,438,481 options meet the performance-based vesting conditions upon the completion of this offering, and vest monthly over a period of five years following the completion of this offering;\\n- · 7,078,861 options meet the performance-based vesting conditions if we attain a public market capitalization of $50 billion, and vest monthly over a period of three years from that date;\\n- · 7,078,861 options meet the performance-based vesting conditions if we attain a public market capitalization of $72 billion, and vest monthly over a period of two years from that date; and\\n- · 9,438,481 options meet the performance-based vesting conditions if we attain a public market capitalization of $90 billion, and vest monthly over a period of two years from that date.\\nIn connection with the reorganization transactions the Company undertook in July 2019 to provide a corporate organization similar to a structure commonly referred to as an 'UP-C' structure, Adam's performance-based options described above were canceled. An equal number of profits interests in the UP-C structure were issued to Adam. All of the profits interests have the same vesting conditions as the performance-based options that were canceled, with time-based vesting commencing on the date the applicable performance goal is achieved. There is no tax receivables agreement in place to benefit any holder of profits interests.\\nShortly after the option awards were issued, Adam exercised the time-based option described above in exchange for a $362.1 million full recourse promissory note payable to the Company (with an interest rate of 2.89% and a maturity date of April 11, 2029). In August 2019, Adam repaid the promissory note (including interest) in full by surrendering to the Company all of the shares received in respect of the time-based option described above. Following the settlement of this loan, the Company issued to Adam the number of profits interests equal to the number of shares surrendered by Adam in settlement of the loan.\\nIn July 2019, WE Holdings LLC assigned residual rights related to 'we' family trademarks to the Company, which we desired to obtain following our rebranding in early 2019. In consideration of this contribution and in lieu of paying cash, the Company issued to WE Holdings LLC partnership interests in the We Company Partnership with a fair market value of approximately $5.9 million, which was determined pursuant to a third-party appraisal.\\n## Charitable Giving\\nIn connection with this offering, Rebekah and Adam are dedicating additional resources to amplify the positive global impact of our organization. This effort is designed to enable us to scale our social and global impact as the Company grows. Rebekah and Adam Neumann have pledged $1 billion to fund charitable causes. To fulfill this pledge, Rebekah and Adam will contribute cash and equity to charitable causes within the 10 years following this offering. Their first contribution aids in the conservation of over 20 million acres of intact tropical forest, including the region pictured on the final page of this prospectus.\\nTo evidence their commitment to charitable causes and to ensure this commitment is meaningful, if Adam and Rebekah have not contributed at least $1 billion to charitable causes as of the ten-year anniversary of the closing date of this offering, holders of all of the Company's high-vote stock will only be entitled to ten votes per share instead of twenty votes per share.\\nOver the years, Adam has sold some of his shares of the Company, with the last sale occurring in late 2017. To date, Adam and Rebekah have donated to charity an amount equal to over 15% of their past sales of shares of the Company.\\nSource: [s1-form-large-file] wework-s1.md.\\nChunk UID: 815be940-7dd4-49e6-bcbb-1d844a036957.\",\n",
       "  \"[6] ## Real Estate Transactions\\n\\nAdam has led our vision about the future of how people work, live and grow and provided valuable real estate insights that have helped drive our growth strategy. Adam has also made personal investments in real estate based on his vision of the future of real estate. In the early days of our business, at a time when landlords were reluctant to recognize the benefits of WeWork as a tenant, Adam bought four buildings in order to help prove WeWork as a viable tenant to landlords. In December 2017, Adam expanded his participation in purchasing real estate by buying a majority interest in downtown San Jose development projects, a first step in pursuing the Company's vision for the future of cities.\\nAs we become a public company, our board of directors and Adam wanted to not only ensure the absence of any actual conflict of interest, but also avoid the appearance of any conflict of interest in relation to any of Adam's personal real estate investments. As a result, we are providing disclosure about all of these properties and, more importantly, have created a mechanism for an orderly transition of these properties from Adam's ownership that ensures the Company gets a favorable treatment in the transfer of these assets. Adam has committed not to purchase any additional properties with the purpose of making them available for our occupancy.\\n## Properties Leased to The We Company\\nWe are party to lease agreements for four commercial properties with landlord entities in which Adam has an ownership interest. These leases, individually and in the aggregate, are not material to our operations and represent only four of our 528 locations as of June 1, 2019. For one of these four properties, we entered into a lease agreement with the landlord/partnership entity within one year following Adam acquiring his ownership interest, and in the other three cases we entered into a lease agreement with the landlord/partnership entity on the same day that Adam acquired his ownership interest. During the years ended December 31, 2016, 2017 and 2018, we made cash payments totaling $3.1 million, $5.6 million and $8.0 million to the landlord/partnership entities under these leases. During the year ended December 31, 2018, we received payments from the landlord/partnership entities in the form of tenant improvement reimbursements of $11.6 million related to these leases. During the six months ended June 30,\\n31, 2018, we received payments from the landlord/partnership entities in the form of tenant improvement reimbursements of $11.6 million related to these leases. During the six months ended June 30, 2019, we made cash payments to the landlord/partnership entities totaling $4.2 million under these leases and received no tenant improvement reimbursements related to these leases. As of June 30, 2019, future undiscounted minimum lease payments under these leases were approximately $236.6 million, which represents 0.5% of the Company's total lease commitments as of June 30, 2019.\\n## Personal Real Estate Transactions\\nIn connection with the formation of ARK, we decided to consolidate all of our real estate investment opportunities in ARK. As part of this consolidation, in August 2019 Adam entered into a management agreement with ARK Capital Advisors, LLC, which serves as the manager of the ARK acquisition vehicles and is referred to as the ARK Manager, pursuant to which the ARK Manager will exclusively manage all of Adam's interests in ten commercial properties owned by Adam, including the four leased properties discussed above. The purpose of this management agreement is to provide the Company with the ability to take advantage of the real estate opportunities Adam had identified, while at the same time eliminating any conflict of interest between Adam and the Company.\\nSource: [s1-form-large-file] wework-s1.md.\\nChunk UID: a7c4135d-906a-470f-beb7-515397f9c7a2.\"]}"
      ]
     },
     "execution_count": 7,
     "metadata": {},
     "output_type": "execute_result"
    }
   ],
   "source": [
    "if tool_call.function.name == \"retrieving-rag\":\n",
    "    tool_result = pipeline.trigger(\n",
    "        namespace_id=namespace,\n",
    "        pipeline_id=\"retrieving-rag\",\n",
    "        data=[{\n",
    "            \"catalog-name\": catalog_name,\n",
    "            \"namespace\": namespace,\n",
    "            \"instruction\": instruction,\n",
    "            \"chat-history\": chat_history,\n",
    "            \"user-query\": user_query,\n",
    "            \"relevance-threshold\": relevance_threshold,\n",
    "            \"file-name\": file_name,\n",
    "            \"content-type\": \"chunk\"\n",
    "        }]\n",
    "    )['outputs'][0]\n",
    "    result = tool_result['chunks']\n",
    "elif tool_call.function.name == \"retrieving-extract\":\n",
    "    tool_result = pipeline.trigger(\n",
    "        namespace_id=namespace,\n",
    "        pipeline_id=\"retrieving-extract\",\n",
    "        data=[{\n",
    "            \"catalog-name\": catalog_name,\n",
    "            \"namespace\": namespace,\n",
    "            \"instruction\": instruction,\n",
    "            \"chat-history\": chat_history,\n",
    "            \"user-query\": user_query,\n",
    "            \"file-summary\": file_summary,\n",
    "            \"file-name\": file_name\n",
    "        }]\n",
    "    )['outputs'][0]\n",
    "    result = tool_result\n",
    "tool_result"
   ]
  },
  {
   "cell_type": "markdown",
   "metadata": {},
   "source": [
    "## 6. Formulate Agent Response\n",
    "\n",
    "Here we append the tool call result to the messages which are then used to create a new ChatCompletion object to return the result to the executing agent"
   ]
  },
  {
   "cell_type": "code",
   "execution_count": 8,
   "metadata": {},
   "outputs": [
    {
     "name": "stderr",
     "output_type": "stream",
     "text": [
      "2025-02-26 22:37:29,046.046 INFO     HTTP Request: POST https://api.openai.com/v1/chat/completions \"HTTP/1.1 200 OK\"\n"
     ]
    },
    {
     "name": "stdout",
     "output_type": "stream",
     "text": [
      "Adam Neumann is a co-founder of WeWork and has served as the Chief Executive Officer (CEO) and Chairman of the Board since the company's inception. He is recognized for his role in shaping the vision, strategic direction, and operational priorities of WeWork, which has become a significant player in the coworking space industry. Neumann's leadership style is characterized by his ability to act as a visionary, operator, and innovator, while also fostering a strong community and culture within the organization [1][2].\n",
      "\n",
      "Neumann has maintained substantial control over WeWork through his ownership of high-vote stock, which allows him to exert significant influence over corporate decisions, including the election of directors. This structure has raised concerns about governance and the potential for conflicts of interest, particularly given his personal investments in real estate that align with WeWork's business model [3][4][6].\n",
      "\n",
      "In addition to his corporate responsibilities, Neumann, along with his wife Rebekah Neumann, has pledged to contribute at least $1 billion to charitable causes over a ten-year period, reflecting their commitment to social impact [5]. \n",
      "\n",
      "Overall, Adam Neumann's leadership has been pivotal in WeWork's growth and its public perception, although it has also been marked by controversies and challenges, particularly surrounding the company's financial practices and governance issues [2][3].\n"
     ]
    }
   ],
   "source": [
    "messages.append(completion.choices[0].message)  # append model's function call message\n",
    "messages.append({                               # append result message\n",
    "    \"role\": \"tool\",\n",
    "    \"tool_call_id\": tool_call.id,\n",
    "    \"content\": str(result)\n",
    "})\n",
    "\n",
    "response_completion = client.chat.completions.create(\n",
    "    model=\"gpt-4o-mini\",\n",
    "    messages=messages,\n",
    "    tools=tools,\n",
    "    temperature=0.0,\n",
    "    top_p=0.95\n",
    ")\n",
    "\n",
    "print(response_completion.choices[0].message.content)"
   ]
  },
  {
   "cell_type": "code",
   "execution_count": null,
   "metadata": {},
   "outputs": [],
   "source": []
  }
 ],
 "metadata": {
  "kernelspec": {
   "display_name": "instill2",
   "language": "python",
   "name": "python3"
  },
  "language_info": {
   "codemirror_mode": {
    "name": "ipython",
    "version": 3
   },
   "file_extension": ".py",
   "mimetype": "text/x-python",
   "name": "python",
   "nbconvert_exporter": "python",
   "pygments_lexer": "ipython3",
   "version": "3.11.8"
  }
 },
 "nbformat": 4,
 "nbformat_minor": 2
}
