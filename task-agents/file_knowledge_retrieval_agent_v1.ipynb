{
 "cells": [
  {
   "cell_type": "markdown",
   "metadata": {},
   "source": [
    "# File Knowledge Retrieval Agent"
   ]
  },
  {
   "cell_type": "markdown",
   "metadata": {},
   "source": [
    "## 0. Import Libraries\n",
    "\n",
    "Import and initialize the necessary libraries."
   ]
  },
  {
   "cell_type": "code",
   "execution_count": 1,
   "metadata": {},
   "outputs": [],
   "source": [
    "from openai import OpenAI\n",
    "from instill.clients import init_pipeline_client\n",
    "import os\n",
    "\n",
    "pipeline = init_pipeline_client(api_token=os.environ[\"INSTILL_API_TOKEN\"])\n",
    "client = OpenAI()"
   ]
  },
  {
   "cell_type": "markdown",
   "metadata": {},
   "source": [
    "## 1. Initialize Variables\n",
    "\n",
    "Here we set the outputs from the executing agent, as well as the parameters defined by Agent-BE, user interaction and other add-on pipelines."
   ]
  },
  {
   "cell_type": "code",
   "execution_count": 2,
   "metadata": {},
   "outputs": [],
   "source": [
    "# Catalog and namespace for retrieval\n",
    "catalog_name = \"benchmark-s1-wework\"\n",
    "namespace = \"george_strong\"\n",
    "\n",
    "# File summary from indexing-generate-summary pipeline\n",
    "file_summary = \"\"\"\n",
    "This document contains the S-1 Registration Statement for WeWork Companies Inc., filed with the Securities and Exchange Commission on August 14, 2019. It provides a comprehensive overview of the company's business model, which focuses on offering flexible workspace solutions through a \"space-as-a-service\" membership model, catering to a diverse clientele that includes freelancers, startups, and large enterprises. The document highlights WeWork's rapid growth, showcasing a committed revenue backlog of $4.0 billion as of June 30, 2019, alongside significant increases in memberships and revenue.\n",
    "\n",
    "Key sections include an analysis of risk factors, financial performance, and strategic growth plans, emphasizing market expansion and product enhancement. It details the company's capital structure, including various stock classes and their voting rights, as well as significant relationships with major investors like SoftBank. The financial statements reflect substantial increases in revenue and operating expenses, alongside notable net losses, while also addressing lease-related liabilities and assets in accordance with accounting standards.\n",
    "\n",
    "Additionally, the document discusses WeWork's acquisitions, stock-based compensation, and related party transactions, providing insights into the company's operational strategies and financial health. Overall, this registration statement serves as a detailed prospectus for potential investors, outlining both the opportunities and risks associated with investing in WeWork.\n",
    "\"\"\"\n",
    "\n",
    "# Instruction from executing agent\n",
    "instruction = \"identify who Adam Neumann is in relation to WeWork\"\n",
    "\n",
    "# State context from executing agent\n",
    "state_context = \" \"\n",
    "\n",
    "# Recommend actions from executing agent\n",
    "recommend_actions = \" \"\n",
    "\n",
    "# User's follow-up query\n",
    "user_query = \"Who is Adam Neumann?\"\n",
    "\n",
    "# User's chat history\n",
    "chat_history = \" \"\n",
    "\n",
    "# Default relevance threshold for RAG mode\n",
    "relevance_threshold = 0.1"
   ]
  },
  {
   "cell_type": "code",
   "execution_count": 3,
   "metadata": {},
   "outputs": [],
   "source": [
    "# Preprocess file summary to remove double quotes - can cause issues with JSON parsing\n",
    "file_summary = file_summary.replace('\"', \"'\")\n",
    "chat_history = chat_history.replace('\"', \"'\")\n",
    "user_query = user_query.replace('\"', \"'\")\n",
    "instruction = instruction.replace('\"', \"'\")"
   ]
  },
  {
   "cell_type": "markdown",
   "metadata": {},
   "source": [
    "## 2. Define Prompt and System Message\n",
    "\n",
    "Here we define the prompt and system message templates for the agent."
   ]
  },
  {
   "cell_type": "code",
   "execution_count": 4,
   "metadata": {},
   "outputs": [],
   "source": [
    "SYSTEM_MESSAGE = \"\"\"\n",
    "You are an AI assistant tasked with collecting and aggregating relevant information based on the supervisor's context and the user's query. You should decide whether to use **Retrieval-Augmented Generation (RAG)** (retrieving-rag) or **deep extraction** (retrieving-extract) to gather and synthesize information.\n",
    "\n",
    "Consider the following to help determine which tool to use:\n",
    "1. **Instruction Type**: \n",
    "   - If the instruction requires **specific, factual answers** (e.g., who, what, when, where), use **retrieving-rag** as it excels at retrieving relevant information directly.\n",
    "   - If the instruction involves **general analysis** (e.g., risks, sentiment, patterns), **retrieving-extract** may be more appropriate, as it involves a comprehensive analysis of the content.\n",
    "   \n",
    "2. **Complexity and Risk**: \n",
    "   - If the instruction requires a **nuanced exploration**, where missing key details could compromise the quality of the response, opt for **retrieving-extract** to ensure that a comprehensive analysis is performed.\n",
    "   - For simpler, fact-based queries, **retrieving-rag** is more efficient.\n",
    "\n",
    "3. **Follow-Up Queries**:\n",
    "   - If the user's query **builds upon prior responses** or requires more refined details, a deep extraction approach may be needed to integrate prior knowledge and ensure completeness.\n",
    "\n",
    "4. **Chat History Context**:\n",
    "   - If relevant context exists in the previous conversation, consider how it might refine the query and influence the tool choice.\n",
    "\n",
    "Remember: If neither **retrieving-rag** nor **retrieving-extract** can help address the instruction, refuse the task.\n",
    "\n",
    "You will still return properly formatted bracket citations (e.g., [1][2]) for each referenced source, ensuring correct citation order. The citations should point to the specific file sources that support each piece of information.\n",
    "\n",
    "User Past Conversation History:\n",
    "{chat_history}\n",
    "\n",
    "User Follow-up Query:\n",
    "{user_query}\n",
    "\"\"\"\n",
    "\n",
    "PROMPT = \"\"\"\n",
    "Below is the background/context from your supervisor:\n",
    "${state_context}\n",
    "\n",
    "The supervisor's task description for you is as follows:\n",
    "${instruction}\n",
    "\n",
    "Recommended actions or parameters you may use:\n",
    "${recommend_actions}\n",
    "\n",
    "Please read the information above carefully and decide whether you should call **retrieving-rag** or **retrieving-extract** to gather relevant data.\n",
    "\n",
    "To make the decision, consider the following:\n",
    "\n",
    "1. **Instruction Type**: Does the instruction ask for specific, factual answers (e.g., who, what, when, where)? If so, prefer **retrieving-rag**. If the instruction is more general or asks for broader analysis (e.g., identifying patterns or risks), lean toward **retrieving-extract**.\n",
    "2. **Complexity**: Does the instruction require a nuanced understanding, where missing key details could compromise the result? In this case, **retrieving-extract** is preferable.\n",
    "3. **Follow-Up Query**: If the user's query builds on prior conversation or needs further refinement, consider using **retrieving-extract** to ensure all necessary context is captured.\n",
    "4. **Chat History Context**: Does the chat history provide relevant context that can help refine the decision?\n",
    "\n",
    "Once you have determined which tool to use, gather the necessary data and incorporate it into a comprehensive, well-structured response, embedding bracket citations (e.g., [3][5]) within the text to show which file/chunk sources support each piece of information.\n",
    "\n",
    "# Steps\n",
    "\n",
    "1. Review the given context, user's past conversation history, and follow-up query.\n",
    "2. Decide whether to call **retrieving-rag** (for specific, fact-based queries) or **retrieving-extract** (for general analysis or when deeper exploration is required).\n",
    "3. If necessary, formulate a retrieval query to extract the relevant data and include the appropriate citations in your response.\n",
    "4. After receiving the tool response, decide if further retrievals are needed for completeness.\n",
    "5. Compile a final, comprehensive answer that incorporates the retrieved data and maintains proper citation order.\n",
    "\n",
    "# Output Format\n",
    "\n",
    "• Provide your final answer in clear, well-structured English.\n",
    "• Ensure each reference to an external file source is enclosed in bracket citations (e.g., [1], [2]), corresponding to the relevant file chunks.\n",
    "• Maintain citation order — do not mix them up or omit any.\n",
    "\"\"\""
   ]
  },
  {
   "cell_type": "markdown",
   "metadata": {},
   "source": [
    "## 3. Define Tools\n",
    "\n",
    "Here we define the tools that the agent will use. We have two tools, `retrieving-rag` and `retrieving-extract`. The `retrieving-extract` tool is used when the user has selected deep file analysis. The `retrieving-rag` tool is used when the user has not selected deep file analysis (or the number of chunks is less than or equal to 15)."
   ]
  },
  {
   "cell_type": "code",
   "execution_count": 5,
   "metadata": {},
   "outputs": [
    {
     "name": "stderr",
     "output_type": "stream",
     "text": [
      "2025-02-19 21:27:34,507.507 INFO     HTTP Request: POST https://api.openai.com/v1/chat/completions \"HTTP/1.1 200 OK\"\n"
     ]
    },
    {
     "name": "stdout",
     "output_type": "stream",
     "text": [
      "retrieving-rag\n"
     ]
    }
   ],
   "source": [
    "tools = [\n",
    "{\n",
    "    \"type\": \"function\",\n",
    "    \"function\": {\n",
    "        \"name\": \"retrieving-rag\",\n",
    "        \"description\": \"Retrieves chunks from the document that are semantically relevant to the instruction, user query, and chat history.\",\n",
    "        \"parameters\": {\n",
    "            \"type\": \"object\",\n",
    "            \"properties\": {},\n",
    "            \"required\": [],\n",
    "            \"additionalProperties\": False\n",
    "        },\n",
    "        \"strict\": True\n",
    "    }\n",
    "},\n",
    "{\n",
    "    \"type\": \"function\",\n",
    "    \"function\": {\n",
    "        \"name\": \"retrieving-extract\",\n",
    "        \"description\": \"Performs a deep analysis to extract information relevant to the instruction, user query, and chat history from an entire file with high recall.\",\n",
    "        \"parameters\": {\n",
    "            \"type\": \"object\",\n",
    "            \"properties\": {},\n",
    "            \"required\": [],\n",
    "            \"additionalProperties\": False\n",
    "        },\n",
    "        \"strict\": True\n",
    "    }\n",
    "}]\n",
    "\n",
    "# Set up the messages with the system message and prompt\n",
    "messages = [\n",
    "    {\n",
    "        \"role\": \"system\",\n",
    "        \"content\": SYSTEM_MESSAGE.format(\n",
    "            chat_history=chat_history,\n",
    "            user_query=user_query\n",
    "        )\n",
    "    },\n",
    "    {\n",
    "        \"role\": \"user\",\n",
    "        \"content\": PROMPT.format(\n",
    "            state_context=state_context,\n",
    "            instruction=instruction,\n",
    "            recommend_actions=recommend_actions\n",
    "        )\n",
    "    }\n",
    "]\n",
    "\n",
    "completion = client.chat.completions.create(\n",
    "    model=\"gpt-4o\",\n",
    "    messages=messages,\n",
    "    tools=tools,\n",
    "    temperature=0.0,\n",
    "    top_p=0.95\n",
    ")\n",
    "\n",
    "tool_call = completion.choices[0].message.tool_calls[0]\n",
    "print(tool_call.function.name)"
   ]
  },
  {
   "cell_type": "markdown",
   "metadata": {},
   "source": [
    "## 4. Handle Deep File Analysis\n",
    "\n",
    "If the number of chunks is less than or equal to 15, we will set `deep_analysis` to `False` and set `relevance_threshold` to `0`. The logic is that if the number of chunks is less than or equal to 15, we will retrieve the whole document. By setting the `relevance_threshold` to `0`, we ensure that all chunks are consumed by the agents response (none are filtered out)."
   ]
  },
  {
   "cell_type": "code",
   "execution_count": 6,
   "metadata": {},
   "outputs": [
    {
     "name": "stdout",
     "output_type": "stream",
     "text": [
      "retrieving-rag\n"
     ]
    }
   ],
   "source": [
    "# Default to RAG mode if num_chunks is less than or equal to 15 as the whole document is retrieved\n",
    "if tool_call.function.name == \"retrieving-extract\":\n",
    "    num_chunks = pipeline.trigger(\n",
    "        namespace_id=namespace,\n",
    "        pipeline_id=\"get-num-chunks\",\n",
    "        data=[{\n",
    "            \"catalog-name\": catalog_name,\n",
    "            \"namespace\": namespace\n",
    "        }]\n",
    "    )['outputs'][0]['num-chunks']\n",
    "\n",
    "    if num_chunks <= 15:\n",
    "        tool_call.function.name = \"retrieving-rag\"\n",
    "        relevance_threshold = 0 # We don't want to filter chunks if we're doing deep analysis so we set it to 0\n",
    "print(tool_call.function.name)"
   ]
  },
  {
   "cell_type": "markdown",
   "metadata": {},
   "source": [
    "## 5. Execute the Tool Call\n",
    "\n",
    "We first extract the arguments from the tool call and then execute the tool call.\n"
   ]
  },
  {
   "cell_type": "code",
   "execution_count": 7,
   "metadata": {},
   "outputs": [
    {
     "data": {
      "text/plain": [
       "{'citations': ['Source: S-1 Wework.md. Chunk UID: 54c25ddc-2bfb-40ae-85b4-312553e1c131.',\n",
       "  'Source: S-1 Wework.md. Chunk UID: 5c612658-baea-4f92-a931-f4fab0024826.',\n",
       "  'Source: S-1 Wework.md. Chunk UID: e234498a-1562-43a6-ab6c-7a99c378f9e1.',\n",
       "  'Source: S-1 Wework.md. Chunk UID: 27a67185-615e-4f13-8780-7b97304e8c6c.',\n",
       "  'Source: S-1 Wework.md. Chunk UID: 12425ed4-c7de-4dca-8a7e-9ad4b4584cd1.',\n",
       "  'Source: S-1 Wework.md. Chunk UID: 9c93e746-0b1c-45ae-866e-ea799505a101.',\n",
       "  'Source: S-1 Wework.md. Chunk UID: 0f761585-f122-4a2b-abbd-4f17b58173e1.',\n",
       "  'Source: S-1 Wework.md. Chunk UID: f626db37-7885-499d-ba75-8fe5960f170c.',\n",
       "  'Source: S-1 Wework.md. Chunk UID: 60de9d6d-4e46-4d65-9315-8451fc2f0e37.',\n",
       "  'Source: S-1 Wework.md. Chunk UID: f77a7a3a-89c8-4b8a-b754-55ea0fa9847f.'],\n",
       " 'scores': [0.9914887,\n",
       "  0.97923523,\n",
       "  0.87831426,\n",
       "  0.55326396,\n",
       "  0.53518957,\n",
       "  0.5179062,\n",
       "  0.40386072,\n",
       "  0.25870037,\n",
       "  0.24926445,\n",
       "  0.21304953],\n",
       " 'chunks': ['[1] # CERTAIN RELATIONSHIPS AND RELATED PARTY TRANSACTIONS\\n## Relationships and Transactions with Adam Neumann, our Co-Founder and Chief Executive Officer\\n\\nAdam has served as the Company’s Chief Executive Officer and Chairman of the Company’s board of directors since our inception. From the day he co-founded WeWork, Adam has set the Company’s vision, strategic direction, and execution priorities. Adam is a unique leader who has proven he can simultaneously wear the hats of visionary, operator, and innovator, while thriving as a community and culture creator. Given his deep involvement in all aspects of the growth of our company, Adam’s personal dealings have evolved across a number of direct and indirect transactions and relationships with the Company. As we make the transition to a public company, we aim to provide clarity and transparency on the history of these relationships and transactions, as well as the background to the strategic governance decisions that have been made by Adam and the Company.\\nThis section also addresses Rebekah Neumann, one of our co-founders who serves as the Company’s Chief Brand and Impact Officer as well as the founder and CEO of WeGrow. Rebekah has been a strategic thought partner to Adam since our founding and has actively shaped the mission and strategy of The We Company and its global impact agenda, as well as being the primary voice and leading advocate for the We brand. Rebekah has never been paid a salary from us.\\nSpecifically, this section covers:\\n- Voting controls\\n- Succession planning\\n- Sale of shares\\n- Employment agreement\\n- Equity awards\\n- Charitable giving\\n- Real estate transactions\\n- Company and personal loans\\n- Family relationships\\n## Voting Controls\\nAdam controls a majority of the Company’s voting power, principally as a result of his beneficial ownership of our high-vote stock. Since our high-vote stock carries twenty votes per share, Adam will have the ability to control the outcome of matters submitted to the Company’s stockholders for approval, including the election of the Company’s directors. As a founder-led company, we believe that this voting structure aligns our interests in creating shareholder value. Adam is, however, committed to relinquishing control at a time when he no longer maintains a significant economic interest in The We Company and the share ownership of Adam and certain of his permitted transferees represents less than 5% of the aggregate number of then-outstanding shares of our capital stock, at which time all of the outstanding high-vote stock would convert to having one vote per share.\\nAdam and Rebekah Neumann have committed to contribute at least $1 billion to charitable causes by the ten-year anniversary of the closing date of this offering. If that contribution is not met, the outstanding high-vote stock would convert to having ten votes per share. See “—Charitable Giving” below.\\n## Succession Planning\\nAs part of our transition to a public company, our board of directors has spent significant time planning for the transition from a privately controlled company to a public company and put considerable thought into succession planning. In particular, in connection with this offering we are taking measures to provide clarity as to how unexpected transitions in our leadership might occur.\\nIn the event that Adam is permanently disabled or deceased during the ten-year period commencing upon the completion of this offering, a committee will be formed for the sole purpose of selecting a new Chief Executive Officer. The composition of this committee will be as follows:\\n- Bruce Dunlevie and Steven Langman, who are currently members of our board of directors and members of our compensation and nominating committee, to the extent they are then serving as our directors, will serve on this selection committee with Rebekah Neumann (with the size of the committee fixed at two or three, as applicable); and\\n- if neither Bruce nor Steven is then serving as one of our directors, Rebekah will choose one or two board members who are serving at the time to serve on this selection committee with Rebekah.\\nSource: S-1 Wework.md.\\nChunk UID: 54c25ddc-2bfb-40ae-85b4-312553e1c131.',\n",
       "  '[2] # Table of Contents\\n## Legal Proceedings\\n\\nFrom time to time, we may become involved in legal or regulatory proceedings arising in the ordinary course of our business, including personal injury claims, intellectual property claims, and commercial contract disputes. In addition, with respect to employees and others, we face and could in the future face a wide variety of claims, including discrimination (for example, based on gender, age, race, or religious affiliation), sexual harassment, privacy, labor and employment, ERISA, and disability claims. Often these cases raise complex factual and legal issues, which are subject to risks and uncertainties and which could require significant management time and corporate resources to defend, could result in significant media coverage and negative publicity, and could be harmful to our reputation and our brand. Although the outcome of these and other claims cannot be predicted with certainty, we are not currently a party to any litigation or regulatory proceeding that we expect to have a material adverse\\nAlthough the outcome of these and other claims cannot be predicted with certainty, we are not currently a party to any litigation or regulatory proceeding that we expect to have a material adverse effect on our business, results of operations, financial condition, or cash flows.\\n# MANAGEMENT\\n## Our Leadership Team\\nThe following sets forth certain information relating to our co-founders and global leadership team as of June 30, 2019.\\n### Our Co-founders\\n**Adam Neumann**  \\nCo-Founder, Chief Executive Officer, and Chairman of the Board  \\nAdam, 40, is one of our co-founders and has served as our Chief Executive Officer and Chairman of the Board since our inception. He serves on our board of directors because of the perspective and experience he brings as our Co-Founder and Chief Executive Officer. We believe his strategic insight, leadership, and commitment to the growth of our global team and community will provide us the leadership we need to execute our vision. Adam is married to Rebekah Neumann and is an executive officer.\\n**Rebekah Neumann**  \\nCo-Founder, Chief Brand and Impact Officer  \\nFounder and CEO of WeGrow  \\nRebekah is one of our co-founders and serves as our Chief Brand and Impact Officer. She is also the founder and CEO of WeGrow. Rebekah is married to Adam Neumann.\\n**Miguel McKelvey**  \\nCo-Founder and Chief Culture Officer  \\nMiguel is one of our co-founders and serves as our Chief Culture Officer. He previously served as our Chief Creative Officer.\\n### Our Global Leaders\\n**Jennifer Berrent**  \\nCo-President and Chief Legal Officer  \\nJen, 47, has served as one of our Presidents since April 2019 and as Chief Legal Officer since June 2016. From October 2014 to April 2019, she held a variety of positions in the organization, including Chief Operating Officer, Chief Culture Officer, and General Counsel. From March 2006 to October 2014, she was a lawyer at Wilmer Cutler Pickering Hale and Dorr LLP, where she served as a partner from January 2011 to October 2014. Jen is an executive officer.\\n**Michael Gross**  \\nVice Chair  \\nMichael has served as a Vice Chair since 2015. Prior to his current role, he served as our Chief Financial Officer from 2013 to 2015. He previously served as Chief Executive Officer of Morgan Hotel Group.\\n**Arthur Minson**  \\nCo-President and Chief Financial Officer  \\nArtie, 48, has served as one of our Presidents since June 2015 and as our Chief Financial Officer since June 2016. From June 2015 to June 2016, he also served as our Chief Operating Officer. From May 2013 to June 2015, he served as Executive Vice President and Chief Financial Officer of Time Warner Cable Inc. From 2009 to April 2013, he served in a number of senior management roles at AOL Inc., including Chief Operating Officer and Chief Financial and Administrative Officer. Artie is an executive officer.\\nSource: S-1 Wework.md.\\nChunk UID: 5c612658-baea-4f92-a931-f4fab0024826.',\n",
       "  '[3] # Table of Contents\\n## Risks Relating to This Offering and Ownership of Our Class A Common Stock\\n\\nShares of our Class B common stock and Class C common stock have twenty votes per share, whereas shares of our Class A common stock being offered by us in this offering have one vote per share. When this offering is completed, our outstanding high-vote stock will represent % of the total voting power of our outstanding capital stock (or % of the total voting power of our outstanding capital stock if the underwriters exercise in full their option to purchase additional shares of our Class A common stock). Due to the twenty-to-one voting ratio between our high-vote stock and Class A common stock, the holders of our high-vote stock collectively will continue to control a majority of the combined voting power of our capital stock, until such time that the aggregate number of outstanding shares of Class B common stock and Class C common stock owned by Adam and certain of his permitted transferees represents less than 5% of the aggregate number of then-outstanding shares of Class A common stock, Class B common\\nstock and Class C common stock owned by Adam and certain of his permitted transferees represents less than 5% of the aggregate number of then-outstanding shares of Class A common stock, Class B common stock, and Class C common stock. In addition, in the event of his death, the shares of high-vote stock that Adam owns will transfer to the persons or entities that he designates. In the event the designated persons or entities are permitted transferees (as defined in the certificate of incorporation), such shares of high-vote stock will not be subject to automatic conversion. Holders of shares of our high-vote stock will be able to significantly influence matters submitted to our stockholders for approval, including the election of directors, amendments of our organizational documents, and any merger, consolidation, sale of all or substantially all of our assets, or other major corporate transaction. This concentrated control will significantly limit your ability to influence corporate matters. In addition, if\\nsale of all or substantially all of our assets, or other major corporate transaction. This concentrated control will significantly limit your ability to influence corporate matters. In addition, if in the future we issue additional shares of high-vote stock, which carry twenty votes per share, holders of shares of Class A common stock carrying one vote per share will have their voting interests diluted disproportionate to their economic dilution.\\nFuture transfers by holders of our Class B common stock will generally result in those shares converting to Class A common stock, and transfers of partnership interests in the We Company Partnership will generally result in nineteen twentieths of the corresponding shares of our Class C common stock being cancelled, in each case subject to certain exceptions including (i) transfers to affiliates (including immediate family members), (ii) transfers to other holders of Class B common stock, (iii) transfers by certain entities controlled by our co-founders to their partners, members, or stockholders, (iv) transfers of membership or other ownership interests in WE Holdings LLC to affiliates (including immediate family members) or to another stockholder, employee, or former employee of The We Company, (v) transfers to certain qualified charitable organizations, and (vi) transfers approved by our board of directors. The conversion of Class B common stock to Class A common stock over time, while increasing the\\nto certain qualified charitable organizations, and (vi) transfers approved by our board of directors. The conversion of Class B common stock to Class A common stock over time, while increasing the absolute voting power of holders of our Class A common stock, may have the effect of increasing the relative voting power of those holders of Class B common stock who retain their shares in the long term. As a result, the relative voting power of holders of Class A common stock may remain limited for a significant period of time. See “Description of Capital Stock” for descriptions of our Class A common stock, Class B common stock, and Class C common stock and the rights associated with each.\\nAdam Neumann will control a majority of our voting stock upon completion of this offering.\\nFollowing the completion of this offering, as a result of his share ownership, together with his voting arrangements with certain stockholders, Adam Neumann, our Co-Founder and Chief Executive Officer, will be able to exercise voting control with respect to an aggregate of shares of our Class A common stock, shares of our Class B common stock, and shares of our Class C common stock representing approximately % of the total voting power of our outstanding capital stock (or approximately % of the total voting power of our outstanding capital stock if the underwriters exercise in full their option to purchase additional shares of our Class A common stock). As a result, Adam will continue to have the ability to control significant corporate activities, including:\\nSource: S-1 Wework.md.\\nChunk UID: e234498a-1562-43a6-ab6c-7a99c378f9e1.',\n",
       "  '[4] # Table of Contents\\n## Risk Factors\\n\\nOur business is subject to a number of risks and uncertainties, as more fully described under “Risk Factors” in this prospectus. These risks could materially and adversely impact our business, financial condition, results of operations, and prospects, which could cause the trading price of our Class A common stock to decline and could result in a loss of all or part of your investment. Some of these risks include:\\n- the sustainability of our rapid growth and our ability to manage our growth effectively;\\n- our ability to expand in new and existing markets and enhance our solutions and product and service offerings;\\n- our ability to achieve profitability at a company level in light of our history of losses;\\n- our ability to retain existing members and attract new members;\\n- risks related to the long-term and fixed-cost nature of our leases;\\n- risks relating to our ability to generate sufficient cash and to obtain financing on adequate terms;\\n- our ability to maintain the value and reputation of our brand;\\n- risks related to our transactions with related parties;\\n- our Co-Founder and Chief Executive Officer has control over key decision-making as a result of his control over a majority of the total voting power of our outstanding capital stock; and\\n- the success of our strategic partnerships.\\n## Implications of Being an Emerging Growth Company\\nWe will be treated as an “emerging growth company,” as defined in the Jumpstart Our Business Startups Act of 2012 (the “JOBS Act”), for certain purposes until the earlier of the date we complete this offering and December 31, 2019. As such, we are permitted to rely on exemptions from certain disclosure and other requirements that are applicable to other public companies that are not emerging growth companies. In particular, in this prospectus, we have taken advantage of certain reduced disclosure obligations regarding the provision of selected financial data and executive compensation arrangements. We have also taken advantage of the extended transition period for complying with new or revised accounting standards available to emerging growth companies. Accordingly, the information contained in this prospectus may be different from the information you might receive from other public companies. See “Management’s Discussion and Analysis of Financial Condition and Results of Operations—JOBS Act”.\\n## Our Principal Stockholder and Our Status as a Controlled Company\\nFollowing the completion of this offering, as a result of his share ownership, together with his voting arrangements with certain stockholders, Adam Neumann, our Co-Founder and Chief Executive Officer, will be able to exercise voting control with respect to an aggregate of shares of our Class A common stock, shares of our Class B common stock, and shares of our Class C common stock, representing approximately % of the total voting power of our outstanding capital stock (or approximately % of the total voting power of our outstanding capital stock if the underwriters exercise in full their option to purchase additional shares of our Class A common stock). Accordingly, Adam will have the ability to control the outcome of matters submitted to our stockholders for approval, including the election of our directors. As a founder-led company, we believe that this voting structure aligns our interests in creating stockholder value.\\nBecause Adam will control a majority of our outstanding voting power, we will be a “controlled company” under the corporate governance rules for listed companies. Therefore, we may elect not to comply with certain corporate governance standards, such as the requirement that our board of directors have a compensation committee and nominating and corporate governance committee composed entirely of independent directors. For at least some period following completion of this offering, we intend to take advantage of these exemptions.\\n## Corporate Information\\nThe We Company was incorporated under the laws of the state of Delaware in April 2019 as a direct wholly-owned subsidiary of WeWork Companies Inc. As a result of various reorganization transactions undertaken in July 2019, The We Company became the holding company of our business, and the then-stockholders of WeWork Companies Inc. became the stockholders of The We Company.\\nSource: S-1 Wework.md.\\nChunk UID: 27a67185-615e-4f13-8780-7b97304e8c6c.',\n",
       "  '[5] # PRINCIPAL STOCKHOLDERS\\n## The following table sets forth information regarding the beneficial ownership, immediately prior to and upon completion of this offering, of each class of our common stock for:\\n\\nindebtedness of Adam Neumann. See “Underwriting—Relationships with Underwriters” for more information. Adam Neumann and Miguel McKelvey are the managing members of WE Holdings LLC. Adam Neumann has sole voting power over all of the shares held by WE Holdings LLC. Adam Neumann and Miguel McKelvey have shared dispositive power over all of the shares held by WE Holdings LLC, and Miguel McKelvey may be deemed to be a beneficial owner of such shares on that basis. The address for WE Holdings LLC is 154 Grand Street, New York, New York 10013.\\n(2) Consists of 32,645,314 shares of our Class A common stock issuable upon the conversion of Series A preferred stock held of record by Benchmark Capital Partners VII (AIV), L.P. (“BCP AIV”), as nominee for BCP AIV, Benchmark Founders’ Fund VII, L.P. (“BFF VII”) and Benchmark Founders’ Fund VII-B, L.P. (“BFF VII-B”). Benchmark Capital Management Co. VII, L.L.C. (“BCMC VII”) is the general partner of each of BCP AIV, BFF VII and BFF VII-B and may be deemed to have shared voting and dispositive power over the shares held by BCP AIV. Matthew R. Cohler, Bruce W. Dunlevie, one of our directors, Peter H. Fenton, J. William Gurley, Kevin R. Harvey, Mitchell H. Lasky and Steven M. Spurlock, the managing members of BCMC VII, may be deemed to have shared voting and dispositive power over the shares held by BCP AIV. The address for the Benchmark entities is c/o Benchmark, 2965 Woodside Road, Woodside, CA 94062.\\n(3) Consists of (i) 470,119 shares of our Class A common stock held of record by PEG Digital Growth Fund II L.P., (ii) 11,021,191 shares of our Class A common stock issuable upon the conversion of Series C preferred stock held of record, in the aggregate, by 522 Fifth Avenue Fund, L.P., Co-Op Retirement Plan Trust, National Automatic Sprinkler Industry Pension Fund, Board of Trustees of the UNITE HERE Retirement Fund, PEG Direct Global Private Equity Institutional Investors V LLC, PEG Secondary Private Equity Investors II L.P., PEG WeWork LLC and Red River Venture Capital Fund, L.P., (iii) 3,015,002 shares of our Class A common stock issuable upon the conversion of Series D-1 preferred stock held of record, in the aggregate, by 522 Fifth Avenue Fund, L.P., Co-Op Retirement Plan Trust, National Automatic Sprinkler Industry Pension Fund, Board of Trustees of the UNITE HERE Retirement Fund, PEG Digital Growth Fund II L.P., PEG Direct Global Private Equity Institutional Investors V LLC, PEG Secondary Private\\nIndustry Pension Fund, Board of Trustees of the UNITE HERE Retirement Fund, PEG Digital Growth Fund II L.P., PEG Direct Global Private Equity Institutional Investors V LLC, PEG Secondary Private Equity Investors II L.P. and PEG WeWork LLC, (iv) 2,368,930 shares of our Class A common stock issuable upon the conversion of Series D-2 preferred stock held of record, in the aggregate, by 522 Fifth Avenue Fund, L.P., Co-Op Retirement Plan Trust, National Automatic Sprinkler Industry Pension Fund, Board of Trustees of the UNITE HERE Retirement Fund, PEG Digital Growth Fund II L.P., PEG Direct Global Private Equity Institutional Investors V LLC, PEG Secondary Private Equity Investors II L.P. and PEG WeWork LLC, (v) 1,368,214 shares of our Class A common stock issuable upon the conversion of Series E preferred stock held of record, in the aggregate, by 522 Fifth Avenue Fund, L.P., Co-Op Retirement Plan Trust, National Automatic Sprinkler Industry Pension Fund, Board of Trustees of the UNITE HERE Retirement Fund, PEG\\nSource: S-1 Wework.md.\\nChunk UID: 12425ed4-c7de-4dca-8a7e-9ad4b4584cd1.',\n",
       "  '[6] # EXHIBIT INDEX\\n| NUMBER | DESCRIPTION |\\n|--------|-------------|\\n\\n| 4.9*   | Form of Proxy Agreement |\\n| 5.1*   | Opinion of Skadden, Arps, Slate, Meagher & Flom LLP |\\n| 10.1*  | Form of Indemnification Agreement between the Registrant and each of its directors and executive officers |\\n| 10.2†  | WeWork Companies Inc. 2013 Stock Incentive Plan |\\n| 10.3†  | Form of Stock Option Notice and Agreement under the WeWork Companies Inc. 2013 Equity Incentive Plan |\\n| 10.4†  | Form of Restricted Stock Agreement under the WeWork Companies Inc. 2013 Equity Incentive Plan |\\n| 10.5†  | WeWork Companies Inc. 2015 Equity Incentive Plan |\\n| 10.6†  | Form of Stock Option Notice and Agreement under the WeWork Companies Inc. 2015 Equity Incentive Plan |\\n| 10.7†  | Form of Restricted Stock Unit Award Agreement under the WeWork Companies Inc. 2015 Equity Incentive Plan |\\n| 10.8†  | The We Company 2019 Omnibus Incentive Plan |\\n| 10.9*  | Form of Restricted Stock Unit Award Agreement under The We Company 2019 Omnibus Incentive Plan |\\n\\n| 10.9*  | Form of Restricted Stock Unit Award Agreement under The We Company 2019 Omnibus Incentive Plan |\\n| 10.10† | Form of Partnership Class PI Common Unit Award Agreement (U.S.) |\\n| 10.11† | Management Partner Partnership Class PI Common Unit Award Agreement (Service) |\\n| 10.12† | Management Partner Partnership Class PI Common Unit Award Agreement (Performance) |\\n\\n\\n† Filed herewith.  \\n* To be filed by amendment.  \\n^ Represents management contract or compensatory plan.\\n# SIGNATURES AND POWERS OF ATTORNEY\\nPursuant to the requirements of the Securities Act of 1933, the Registrant has duly caused this Registration Statement to be signed on its behalf by the undersigned, thereunto duly authorized, in the City of New York, State of New York, on August 14, 2019.\\n**The We Company**  \\nBy: /s/ Arthur Minson  \\nArthur Minson  \\nCo-President and Chief Financial Officer\\nEach of the undersigned officers and directors of the Registrant hereby severally constitutes and appoints Adam Neumann, Arthur Minson and Jennifer Berrent, and each of them acting alone, as his or her true and lawful attorneys-in-fact and agents, with full power of substitution and resubstitution, for him or her and in his or her name, place and stead, and in any and all capacities, to sign any and all amendments (including post-effective amendments) to this Registration Statement and to file the same, with all exhibits thereto and other documents in connection therewith, with the SEC, granting unto said attorneys-in-fact and agents, and each of them, full power and authority to do and perform each and every act and thing requisite and necessary to be done in and about the premises, as fully to all intents and purposes as he or she might or could do in person, hereby ratifying and confirming all that said attorneys-in-fact and agents, or any of them individually, or their or his or her substitute or\\nand purposes as he or she might or could do in person, hereby ratifying and confirming all that said attorneys-in-fact and agents, or any of them individually, or their or his or her substitute or substitutes, may lawfully do or cause to be done by virtue hereof.\\nPursuant to the requirements of the Securities Act, this Registration Statement has been signed by the following persons in the capacities and on the dates indicated.\\nSource: S-1 Wework.md.\\nChunk UID: 9c93e746-0b1c-45ae-866e-ea799505a101.',\n",
       "  '[7] # Table of Contents\\n## Other Senior Leadership\\n\\nOur global leaders are supported by an experienced senior leadership team that has a proven track record of leading successful tech-enabled services businesses in areas such as operations, product development, design, and technology.\\n## Local Leadership Teams\\nEach of our regions is supported by a team of mission-driven local leaders. Our regional managers oversee our business operations and community in each region. These regional managers are in turn supported by a team of general managers that oversee territories within these regions. Within these territories, each location is supported by a core community team that is integral to developing and maintaining the distinct personality and culture within that location. Each of these community teams is led by a community manager, who is supported by a group of community leads and community associates. We believe our local community teams, led by our community managers, are the heart and soul of our global platform.\\n## Charitable Commitments of our Co-Founders and Other Senior Leaders\\nIn connection with this offering, our co-founders and senior leaders are dedicating additional resources to amplify the positive global impact of our organization. This effort is designed to enable us to scale our social and global impact as the Company grows.\\n- Rebekah and Adam Neumann have pledged $1 billion to fund charitable causes. To fulfill this pledge, Rebekah and Adam will contribute cash and equity to charitable causes within the 10 years following this offering. Their first contribution aids in the conservation of over 20 million acres of intact tropical forest, including the region pictured on the final page of this prospectus.\\n- Miguel McKelvey has pledged 50% of the value of his equity to fund causes aligned with our mission.\\n- Each of our named executive officers has pledged to donate to charity the equivalent of 10% of proceeds from sales of their equity.\\n- Each of our senior leaders who received option awards and profits interests as described under “Executive Compensation—Incentivizing Our Leadership Team” has indicated their intent to donate to charity 10% of the proceeds from sales of such equity.\\n## Election of Executive Officers\\nEach of our executive officers serves at the discretion of our board of directors and holds office until his or her successor is duly appointed and qualified or until his or her earlier resignation or removal. There are no family relationships among any of our directors or executive officers.\\n## Code of Business Conduct and Ethics\\nWe have adopted a written code of business conduct and ethics that applies to our directors, officers, and employees, including our principal executive officer, principal financial officer, principal accounting officer or controller, or persons performing similar functions. We have posted a current copy of the code on our website at [www.we.co](http://www.we.co). In addition, we intend to post on our website all disclosures that are required by law or the listing standards concerning any amendments to, or waivers from, any provision of the code. Information contained on, or accessible through, our website is not a part of this prospectus, and the inclusion of our website address in this prospectus is an inactive textual reference.\\n## Non-employee Directors\\nIn addition to Adam Neumann, our board of directors includes six non-employee directors. The following sets forth certain information relating to these directors as of June 30, 2019. Several of our directors were designated by certain of our stockholders. Bruce Dunlevie was designated to serve on our board of directors by Benchmark, John Zhao was designated to serve on our board of directors by Hony Capital, and Ron Fisher was designated to serve on our board of directors by Softbank Vision Fund L.P., in each case in accordance with the stockholders’ agreement described in “Certain Relationships and Related Party Transactions—Stockholders’ Agreement.” The stockholders’ agreement terminates automatically in accordance with its terms immediately prior to the completion of this offering.\\nSource: S-1 Wework.md.\\nChunk UID: 0f761585-f122-4a2b-abbd-4f17b58173e1.',\n",
       "  '[8] # CERTAIN RELATIONSHIPS AND RELATED PARTY TRANSACTIONS\\n## Equity Awards\\n\\nAs part of this award, Adam received options to purchase an aggregate of 42,473,167 shares. All of Adam’s awards vest over time based on Adam’s continuing service as our Chief Executive Officer and contemplate up to a ten-year time horizon for full vesting. A majority of Adam’s awards are also tied to the Company’s performance as a public company, particularly an increase in our market capitalization that is sustained over a period of at least 60 days.\\nBy connecting these awards to service to the Company and long-term value creation, our board believes we have set the foundation for long-term incentive alignment between Adam and our stockholders. The awards provide as follows:\\n- 9,438,481 options vest monthly over a period of five years following the date of grant;\\n- 9,438,481 options meet the performance-based vesting conditions upon the completion of this offering, and vest monthly over a period of five years following the completion of this offering;\\n- 7,078,861 options meet the performance-based vesting conditions if we attain a public market capitalization of $50 billion, and vest monthly over a period of three years from that date;\\n- 7,078,861 options meet the performance-based vesting conditions if we attain a public market capitalization of $72 billion, and vest monthly over a period of two years from that date; and\\n- 9,438,481 options meet the performance-based vesting conditions if we attain a public market capitalization of $90 billion, and vest monthly over a period of two years from that date.\\nIn connection with the reorganization transactions the Company undertook in July 2019 to provide a corporate organization similar to a structure commonly referred to as an “UP-C” structure, Adam’s performance-based options described above were canceled. An equal number of profits interests in the UP-C structure were issued to Adam. All of the profits interests have the same vesting conditions as the performance-based options that were canceled, with time-based vesting commencing on the date the applicable performance goal is achieved. There is no tax receivables agreement in place to benefit any holder of profits interests.\\nShortly after the option awards were issued, Adam exercised the time-based option described above in exchange for a $362.1 million full recourse promissory note payable to the Company (with an interest rate of 2.89% and a maturity date of April 11, 2029). In August 2019, Adam repaid the promissory note (including interest) in full by surrendering to the Company all of the shares received in respect of the time-based option described above. Following the settlement of this loan, the Company issued to Adam the number of profits interests equal to the number of shares surrendered by Adam in settlement of the loan.\\nIn July 2019, WE Holdings LLC assigned residual rights related to “we” family trademarks to the Company, which we desired to obtain following our rebranding in early 2019. In consideration of this contribution and in lieu of paying cash, the Company issued to WE Holdings LLC partnership interests in the We Company Partnership with a fair market value of approximately $5.9 million, which was determined pursuant to a third-party appraisal.\\n## Charitable Giving\\nIn connection with this offering, Rebekah and Adam are dedicating additional resources to amplify the positive global impact of our organization. This effort is designed to enable us to scale our social and global impact as the Company grows. Rebekah and Adam Neumann have pledged $1 billion to fund charitable causes. To fulfill this pledge, Rebekah and Adam will contribute cash and equity to charitable causes within the 10 years following this offering. Their first contribution aids in the conservation of over 20 million acres of intact tropical forest, including the region pictured on the final page of this prospectus.\\nTo evidence their commitment to charitable causes and to ensure this commitment is meaningful, if Adam and Rebekah have not contributed at least $1 billion to charitable causes as of the ten-year anniversary of the closing date of this offering, holders of all of the Company’s high-vote stock will only be entitled to ten votes per share instead of twenty votes per share.\\nOver the years, Adam has sold some of his shares of the Company, with the last sale occurring in late 2017. To date, Adam and Rebekah have donated to charity an amount equal to over 15% of their past sales of shares of the Company.\\nSource: S-1 Wework.md.\\nChunk UID: f626db37-7885-499d-ba75-8fe5960f170c.',\n",
       "  '[9] # CERTAIN RELATIONSHIPS AND RELATED PARTY TRANSACTIONS\\n## Real Estate Transactions\\n\\nAdam has led our vision about the future of how people work, live, and grow and provided valuable real estate insights that have helped drive our growth strategy. Adam has also made personal investments in real estate based on his vision of the future of real estate. In the early days of our business, at a time when landlords were reluctant to recognize the benefits of WeWork as a tenant, Adam bought four buildings in order to help prove WeWork as a viable tenant to landlords. In December 2017, Adam expanded his participation in purchasing real estate by buying a majority interest in downtown San Jose development projects, a first step in pursuing the Company’s vision for the future of cities.\\nAs we become a public company, our board of directors and Adam wanted to not only ensure the absence of any actual conflict of interest but also avoid the appearance of any conflict of interest in relation to any of Adam’s personal real estate investments. As a result, we are providing disclosure about all of these properties and, more importantly, have created a mechanism for an orderly transition of these properties from Adam’s ownership that ensures the Company gets favorable treatment in the transfer of these assets. Adam has committed not to purchase any additional properties with the purpose of making them available for our occupancy.\\n### Properties Leased to The We Company\\nWe are party to lease agreements for four commercial properties with landlord entities in which Adam has an ownership interest. These leases, individually and in the aggregate, are not material to our operations and represent only four of our 528 locations as of June 1, 2019. For one of these four properties, we entered into a lease agreement with the landlord/partnership entity within one year following Adam acquiring his ownership interest, and in the other three cases we entered into a lease agreement with the landlord/partnership entity on the same day that Adam acquired his ownership interest. During the years ended December 31, 2016, 2017, and 2018, we made cash payments totaling $3.1 million, $5.6 million, and $8.0 million to the landlord/partnership entities under these leases. During the year ended December 31, 2018, we received payments from the landlord/partnership entities in the form of tenant improvement reimbursements of $11.6 million related to these leases. During the six months ended June\\n31, 2018, we received payments from the landlord/partnership entities in the form of tenant improvement reimbursements of $11.6 million related to these leases. During the six months ended June 30, 2019, we made cash payments to the landlord/partnership entities totaling $4.2 million under these leases and received no tenant improvement reimbursements related to these leases. As of June 30, 2019, future undiscounted minimum lease payments under these leases were approximately $236.6 million, which represents 0.5% of the Company’s total lease commitments as of June 30, 2019.\\n### Personal Real Estate Transactions\\nIn connection with the formation of ARK, we decided to consolidate all of our real estate investment opportunities in ARK. As part of this consolidation, in August 2019 Adam entered into a management agreement with ARK Capital Advisors, LLC, which serves as the manager of the ARK acquisition vehicles and is referred to as the ARK Manager, pursuant to which the ARK Manager will exclusively manage all of Adam’s interests in ten commercial properties owned by Adam, including the four leased properties discussed above. The purpose of this management agreement is to provide the Company with the ability to take advantage of the real estate opportunities Adam had identified, while at the same time eliminating any conflict of interest between Adam and the Company.\\nSource: S-1 Wework.md.\\nChunk UID: 60de9d6d-4e46-4d65-9315-8451fc2f0e37.',\n",
       "  '[10] # PRINCIPAL STOCKHOLDERS\\n## The following table sets forth information regarding the beneficial ownership, immediately prior to and upon completion of this offering, of each class of our common stock for:\\n\\n‡ Subject to certain restrictions set forth in the Partnership Agreement, holders of partnership interests (other than direct and indirect subsidiaries of The We Company) may exchange their partnership interests (other than unvested profits interests), together with the corresponding shares of our Class C common stock, for, at our option, shares of our Class B common stock or cash. Whether the exchange of partnership interests and the corresponding shares of our Class C common stock is for shares of our Class B common stock or cash is ultimately subject to the determination of a majority of directors (including a majority of the independent directors) on a committee of our board of directors. Therefore, this table does not reflect beneficial ownership of shares of our Class B common stock for which such partnership interests may be exchanged. Upon the exchange of partnership interests in the We Company Partnership for shares of our Class B common stock, the corresponding shares of Class C common stock will be\\ninterests may be exchanged. Upon the exchange of partnership interests in the We Company Partnership for shares of our Class B common stock, the corresponding shares of Class C common stock will be canceled. As a result, there will be no effect on the number of our voting shares outstanding. Upon the forfeiture of unvested profits interests in the We Company Partnership, the corresponding shares of Class C common stock will also be canceled. This will reduce the number of our voting shares outstanding, but because each holder of unvested profits interests in the We Company Partnership has entered into the voting agreement described above, this reduction will have no effect on any vote of holders of our common stock or our Class C common stock. For additional details with respect to partnership interests in the We Company Partnership and the associated shares of our Class C common stock, see “Certain Relationships and Related Party Transactions—Partnership Interests” and “Description of Capital Stock—Voting\\nWe Company Partnership and the associated shares of our Class C common stock, see “Certain Relationships and Related Party Transactions—Partnership Interests” and “Description of Capital Stock—Voting Arrangements”.\\n(1) Consists of (i) 100,128,232 shares of our Class B common stock held of record by WE Holdings LLC, (ii) shares of our Class B common stock into which 1,500 shares of junior preferred stock held of record by WE Holdings LLC will be converted upon the completion of this offering and (iii) 2,428,730 shares of our Class A common stock, including Class A common stock issuable upon the conversion of our preferred stock, and 11,720,266 shares of our Class B common stock, in each case held by other stockholders over which WE Holdings LLC and Adam Neumann each hold an irrevocable proxy to vote on all matters to be voted on by stockholders pursuant to voting arrangements among WE Holdings LLC, Adam Neumann and such stockholders. Includes shares of our Class B common stock pledged as collateral to secure certain personal indebtedness of Adam Neumann. See “Underwriting—Relationships with Underwriters” for more information. Adam Neumann and Miguel McKelvey are the managing members of WE Holdings LLC. Adam Neumann has\\nindebtedness of Adam Neumann. See “Underwriting—Relationships with Underwriters” for more information. Adam Neumann and Miguel McKelvey are the managing members of WE Holdings LLC. Adam Neumann has sole voting power over all of the shares held by WE Holdings LLC. Adam Neumann and Miguel McKelvey have shared dispositive power over all of the shares held by WE Holdings LLC, and Miguel McKelvey may be deemed to be a beneficial owner of such shares on that basis. The address for WE Holdings LLC is 154 Grand Street, New York, New York 10013.\\nSource: S-1 Wework.md.\\nChunk UID: f77a7a3a-89c8-4b8a-b754-55ea0fa9847f.']}"
      ]
     },
     "execution_count": 7,
     "metadata": {},
     "output_type": "execute_result"
    }
   ],
   "source": [
    "if tool_call.function.name == \"retrieving-rag\":\n",
    "    tool_result = pipeline.trigger(\n",
    "        namespace_id=namespace,\n",
    "        pipeline_id=\"retrieving-rag\",\n",
    "        data=[{\n",
    "            \"catalog-name\": catalog_name,\n",
    "            \"namespace\": namespace,\n",
    "            \"instruction\": instruction,\n",
    "            \"chat-history\": chat_history,\n",
    "            \"user-query\": user_query,\n",
    "            \"relevance-threshold\": relevance_threshold\n",
    "        }]\n",
    "    )['outputs'][0]\n",
    "    result = tool_result['chunks']\n",
    "elif tool_call.function.name == \"retrieving-extract\":\n",
    "    tool_result = pipeline.trigger(\n",
    "        namespace_id=namespace,\n",
    "        pipeline_id=\"retrieving-extract\",\n",
    "        data=[{\n",
    "            \"catalog-name\": catalog_name,\n",
    "            \"namespace\": namespace,\n",
    "            \"instruction\": instruction,\n",
    "            \"chat-history\": chat_history,\n",
    "            \"user-query\": user_query,\n",
    "            \"file-summary\": file_summary\n",
    "        }]\n",
    "    )['outputs'][0]\n",
    "    result = tool_result\n",
    "tool_result"
   ]
  },
  {
   "cell_type": "markdown",
   "metadata": {},
   "source": [
    "## 6. Formulate Agent Response\n",
    "\n",
    "Here we append the tool call result to the messages which are then used to create a new ChatCompletion object to return the result to the executing agent"
   ]
  },
  {
   "cell_type": "code",
   "execution_count": 8,
   "metadata": {},
   "outputs": [
    {
     "name": "stderr",
     "output_type": "stream",
     "text": [
      "2025-02-19 21:28:07,986.986 INFO     HTTP Request: POST https://api.openai.com/v1/chat/completions \"HTTP/1.1 200 OK\"\n"
     ]
    },
    {
     "name": "stdout",
     "output_type": "stream",
     "text": [
      "Adam Neumann is a co-founder of WeWork and has served as the Chief Executive Officer (CEO) and Chairman of the company's board of directors since its inception. He is recognized for his role in shaping the vision, strategic direction, and operational priorities of WeWork, which has become a significant player in the coworking space industry. Neumann is noted for his unique leadership style, which combines visionary thinking with operational execution and community building [1][2].\n",
      "\n",
      "Neumann's influence extends beyond his executive role; he controls a majority of the company's voting power due to his ownership of high-vote stock, which allows him to significantly influence corporate decisions, including the election of directors and major corporate transactions [3][4]. His leadership has been characterized by a commitment to growth and innovation, although it has also faced scrutiny and challenges, particularly regarding governance and financial practices [5][6].\n",
      "\n",
      "In addition to his corporate responsibilities, Neumann, along with his wife Rebekah Neumann, has pledged to contribute at least $1 billion to charitable causes, reflecting their commitment to social impact [7][8]. His personal investments in real estate have also played a role in WeWork's growth strategy, as he has leveraged his insights to acquire properties that support the company's vision [9].\n",
      "\n",
      "Overall, Adam Neumann's role at WeWork is pivotal, as he has been instrumental in its development and continues to exert significant influence over its operations and strategic direction.\n"
     ]
    }
   ],
   "source": [
    "messages.append(completion.choices[0].message)  # append model's function call message\n",
    "messages.append({                               # append result message\n",
    "    \"role\": \"tool\",\n",
    "    \"tool_call_id\": tool_call.id,\n",
    "    \"content\": str(result)\n",
    "})\n",
    "\n",
    "response_completion = client.chat.completions.create(\n",
    "    model=\"gpt-4o-mini\",\n",
    "    messages=messages,\n",
    "    tools=tools,\n",
    "    temperature=0.0,\n",
    "    top_p=0.95\n",
    ")\n",
    "\n",
    "print(response_completion.choices[0].message.content)"
   ]
  },
  {
   "cell_type": "code",
   "execution_count": null,
   "metadata": {},
   "outputs": [],
   "source": []
  }
 ],
 "metadata": {
  "kernelspec": {
   "display_name": "instill2",
   "language": "python",
   "name": "python3"
  },
  "language_info": {
   "codemirror_mode": {
    "name": "ipython",
    "version": 3
   },
   "file_extension": ".py",
   "mimetype": "text/x-python",
   "name": "python",
   "nbconvert_exporter": "python",
   "pygments_lexer": "ipython3",
   "version": "3.11.8"
  }
 },
 "nbformat": 4,
 "nbformat_minor": 2
}
